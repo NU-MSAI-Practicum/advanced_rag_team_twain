{
 "cells": [
  {
   "cell_type": "code",
   "execution_count": 19,
   "metadata": {},
   "outputs": [],
   "source": [
    "import numpy as np\n",
    "import pandas as pd\n",
    "import matplotlib.pyplot as plt\n",
    "import seaborn as sns\n",
    "\n",
    "RAW_TRAIN_DATA_PATH = 'rag-dataset-12000/data/train-00000-of-00001-9df3a936e1f63191.parquet'\n",
    "RAW_TEST_DATA_PATH = 'rag-dataset-12000/data/test-00000-of-00001-af2a9f454ad1b8a3.parquet'"
   ]
  },
  {
   "cell_type": "code",
   "execution_count": 20,
   "metadata": {},
   "outputs": [
    {
     "data": {
      "text/html": [
       "<div>\n",
       "<style scoped>\n",
       "    .dataframe tbody tr th:only-of-type {\n",
       "        vertical-align: middle;\n",
       "    }\n",
       "\n",
       "    .dataframe tbody tr th {\n",
       "        vertical-align: top;\n",
       "    }\n",
       "\n",
       "    .dataframe thead th {\n",
       "        text-align: right;\n",
       "    }\n",
       "</style>\n",
       "<table border=\"1\" class=\"dataframe\">\n",
       "  <thead>\n",
       "    <tr style=\"text-align: right;\">\n",
       "      <th></th>\n",
       "      <th>context</th>\n",
       "      <th>question</th>\n",
       "      <th>answer</th>\n",
       "    </tr>\n",
       "  </thead>\n",
       "  <tbody>\n",
       "    <tr>\n",
       "      <th>0</th>\n",
       "      <td>Caption: Tasmanian berry grower Nic Hansen sho...</td>\n",
       "      <td>What is the Berry Export Summary 2028 and what...</td>\n",
       "      <td>The Berry Export Summary 2028 is a dedicated e...</td>\n",
       "    </tr>\n",
       "    <tr>\n",
       "      <th>1</th>\n",
       "      <td>RWSN Collaborations\\nSouthern Africa Self-supp...</td>\n",
       "      <td>What are some of the benefits reported from ha...</td>\n",
       "      <td>Benefits reported from having access to Self-s...</td>\n",
       "    </tr>\n",
       "  </tbody>\n",
       "</table>\n",
       "</div>"
      ],
      "text/plain": [
       "                                             context  \\\n",
       "0  Caption: Tasmanian berry grower Nic Hansen sho...   \n",
       "1  RWSN Collaborations\\nSouthern Africa Self-supp...   \n",
       "\n",
       "                                            question  \\\n",
       "0  What is the Berry Export Summary 2028 and what...   \n",
       "1  What are some of the benefits reported from ha...   \n",
       "\n",
       "                                              answer  \n",
       "0  The Berry Export Summary 2028 is a dedicated e...  \n",
       "1  Benefits reported from having access to Self-s...  "
      ]
     },
     "execution_count": 20,
     "metadata": {},
     "output_type": "execute_result"
    }
   ],
   "source": [
    "train_file_path = 'rag-dataset-12000/data/train-00000-of-00001-9df3a936e1f63191.parquet'\n",
    "df = pd.read_parquet(train_file_path)\n",
    "df.head(2)"
   ]
  },
  {
   "cell_type": "code",
   "execution_count": 13,
   "metadata": {},
   "outputs": [
    {
     "name": "stdout",
     "output_type": "stream",
     "text": [
      "Average Context Length: 3438.21125\n",
      "Max Context Length: 9156\n"
     ]
    }
   ],
   "source": [
    "# Avgerage Context Length\n",
    "context_lengths = df['context'].str.len()\n",
    "print(f'Average Context Length: {context_lengths.mean()}')\n",
    "\n",
    "# Max Context Length\n",
    "context_lengths = df['context'].str.len()\n",
    "print(f'Max Context Length: {context_lengths.max()}')"
   ]
  },
  {
   "cell_type": "code",
   "execution_count": 14,
   "metadata": {},
   "outputs": [
    {
     "data": {
      "image/png": "[encoded data removed]",
      "text/plain": [
       "<Figure size 1000x500 with 1 Axes>"
      ]
     },
     "metadata": {},
     "output_type": "display_data"
    }
   ],
   "source": [
    "fig, ax = plt.subplots(1, 1, figsize=(10, 5))\n",
    "sns.histplot(context_lengths, ax=ax)\n",
    "ax.set_title('Context Length Distribution')\n",
    "ax.set_xlabel('Context Length')\n",
    "ax.set_ylabel('Frequency')\n",
    "plt.show()"
   ]
  },
  {
   "cell_type": "markdown",
   "metadata": {},
   "source": [
    "## Spot check 25 query and response pairs"
   ]
  },
  {
   "cell_type": "code",
   "execution_count": 17,
   "metadata": {},
   "outputs": [],
   "source": [
    "np.random.seed(0)\n",
    "df.loc[np.random.randint(0, len(df), size=25), ].to_excel('sample_data.xlsx', index=False)"
   ]
  },
  {
   "cell_type": "code",
   "execution_count": 21,
   "metadata": {},
   "outputs": [],
   "source": [
    "df.to_csv('train_data.csv')"
   ]
  }
 ],
 "metadata": {
  "kernelspec": {
   "display_name": "ml",
   "language": "python",
   "name": "python3"
  },
  "language_info": {
   "codemirror_mode": {
    "name": "ipython",
    "version": 3
   },
   "file_extension": ".py",
   "mimetype": "text/x-python",
   "name": "python",
   "nbconvert_exporter": "python",
   "pygments_lexer": "ipython3",
   "version": "3.9.18"
  }
 },
 "nbformat": 4,
 "nbformat_minor": 2
}
