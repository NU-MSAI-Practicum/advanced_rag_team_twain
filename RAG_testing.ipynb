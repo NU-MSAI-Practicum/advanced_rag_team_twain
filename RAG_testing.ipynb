{
 "cells": [
  {
   "cell_type": "code",
   "execution_count": 8,
   "metadata": {},
   "outputs": [],
   "source": [
    "from CreateDocuments import load_documents\n",
    "%load_ext autoreload\n",
    "%autoreload 2"
   ]
  },
  {
   "cell_type": "markdown",
   "metadata": {},
   "source": [
    "## HuggingFace Embeddings"
   ]
  },
  {
   "cell_type": "code",
   "execution_count": 3,
   "metadata": {},
   "outputs": [
    {
     "name": "stderr",
     "text": [
      "/Users/ryankish/miniforge3/envs/ml/lib/python3.9/site-packages/transformers/utils/generic.py:441: UserWarning: torch.utils._pytree._register_pytree_node is deprecated. Please use torch.utils._pytree.register_pytree_node instead.\n",
      "  _torch_pytree._register_pytree_node(\n",
      "/Users/ryankish/miniforge3/envs/ml/lib/python3.9/site-packages/transformers/utils/generic.py:309: UserWarning: torch.utils._pytree._register_pytree_node is deprecated. Please use torch.utils._pytree.register_pytree_node instead.\n",
      "  _torch_pytree._register_pytree_node(\n",
      "/Users/ryankish/miniforge3/envs/ml/lib/python3.9/site-packages/transformers/utils/generic.py:309: UserWarning: torch.utils._pytree._register_pytree_node is deprecated. Please use torch.utils._pytree.register_pytree_node instead.\n",
      "  _torch_pytree._register_pytree_node(\n"
     ]
    },
    {
     "name": "stdout",
     "output_type": "stream",
     "text": [
      "384\n",
      "3\n"
     ]
    }
   ],
   "source": [
    "from langchain_community.embeddings import HuggingFaceEmbeddings\n",
    "embeddings = HuggingFaceEmbeddings(model_name=\"all-MiniLM-L6-v2\")\n",
    "# Equivalent to SentenceTransformerEmbeddings(model_name=\"all-MiniLM-L6-v2\")\n",
    "text = \"This is a test document.\"\n",
    "query_result = embeddings.embed_query(text)\n",
    "query_result = embeddings.embed_query(text)\n",
    "print(len(query_result))\n",
    "doc_result = embeddings.embed_documents([text, \"Document 2\", \"Document 3\"])\n",
    "print(len(doc_result))"
   ]
  },
  {
   "cell_type": "markdown",
   "metadata": {},
   "source": [
    "## with Chroma\n",
    "Need to fix text loader"
   ]
  },
  {
   "cell_type": "code",
   "execution_count": 14,
   "metadata": {},
   "outputs": [],
   "source": [
    "# https://python.langchain.com/docs/integrations/vectorstores/chroma/\n",
    "\n",
    "from langchain_community.document_loaders import TextLoader\n",
    "from langchain_community.embeddings.sentence_transformer import (\n",
    "    SentenceTransformerEmbeddings,\n",
    ")\n",
    "from langchain_community.vectorstores import Chroma\n",
    "from langchain_text_splitters import CharacterTextSplitter\n",
    "\n",
    "# # load the document and split it into chunks\n",
    "# loader = TextLoader(\"../../modules/state_of_the_union.txt\")\n",
    "# documents = loader.load()\n",
    "\n",
    "# # split it into chunks\n",
    "# text_splitter = CharacterTextSplitter(chunk_size=1000, chunk_overlap=0)\n",
    "# docs = text_splitter.split_documents(documents)\n",
    "\n",
    "docs = load_documents('documents/train_size_200_overlap_20_documents.pkl')\n",
    "# create the open-source embedding function\n",
    "embedding_function = HuggingFaceEmbeddings(model_name=\"all-MiniLM-L6-v2\")\n",
    "\n",
    "# load it into Chroma\n",
    "db = Chroma.from_documents(docs, embedding_function)"
   ]
  },
  {
   "cell_type": "code",
   "execution_count": 22,
   "metadata": {},
   "outputs": [
    {
     "name": "stdout",
     "output_type": "stream",
     "text": [
      "3524 Redwing Ct, Naperville, IL 60564\n",
      "4 beds5 baths3,591 sqft Edit\n"
     ]
    }
   ],
   "source": [
    "\n",
    "# query it\n",
    "query = \"When was the house at 3524 Redwing Ct, Naperville, IL 60564 last sold and for what price?\"\n",
    "docs = db.similarity_search(query)\n",
    "\n",
    "# print results\n",
    "print(docs[0].page_content)"
   ]
  },
  {
   "cell_type": "markdown",
   "metadata": {},
   "source": [
    "\"3524 Redwing Ct, Naperville, IL 60564\n",
    "4 beds5 baths3,591 sqft Edit\n",
    "A Zestimate¬Æ home valuation is Zillow's estimated market value. It is not an appraisal. Use it as a starting point to determine a home's value. Learn more\n",
    "Facts\n",
    "- Single Family\n",
    "- Built in 2000\n",
    "- Views: 773 all time views\n",
    "- Cooling: Central, Other\n",
    "- Heating: Forced air, Other\n",
    "- Last sold: Oct 2013 for $595,000\n",
    "- Last sale price/sqft: $166\n",
    "Features\n",
    "- Ceiling Fan\n",
    "- Deck\n",
    "- Fireplace\n",
    "- Flooring: Carpet, Hardwood\n",
    "- Mother-in-Law\n",
    "- Parking: Garage - Attached, 3 spaces, 704 sqft\n",
    "- Security System\n",
    "- Vaulted Ceiling\n",
    "Appliances Included\n",
    "- Dishwasher\n",
    "- Dryer\n",
    "- Garbage disposal\n",
    "- Microwave\n",
    "- Range / Oven\n",
    "- Refrigerator\n",
    "- Washer\n",
    "Room Types\n",
    "- Dining room\n",
    "- Family room\n",
    "- Office\n",
    "- Recreation room\n",
    "Construction\n",
    "- Exterior material: Brick\n",
    "- Roof type: Asphalt\n",
    "- Room count: 11\n",
    "- Stories: 2\n",
    "- Structure type: Other\n",
    "- Unit count: 1\n",
    "Other\n",
    "- Floor size: 3,591 sqft\n",
    "- Heating: Gas\n",
    "- Laundry: In Unit\n",
    "- Parcel #: 0701093130290000\n",
    "- Zillow Home ID: 556842K.\n",
    "Mortgages\n",
    "Neighborhood\n",
    "Market guideZillow predicts 60564 home values will fall 1% next year, compared to a 1.1% decrease for Naperville as a whole. Among 60564 homes, this home is valued 49.3% more than the midpoint (median) home, and is valued 11.5% more per square.\n",
    "Learn more about forecast calculations or 60564 home values.‚Ä¶ More Less\n",
    "For Sale\n",
    "- 3540 Redwing Ct5 beds, 5 baths\n",
    "3,986 sqft, 6,372 sqft lot, built in 2004\n",
    "- 3459 Redwing Dr4 beds, 3.5 baths\n",
    "2,865 sqft, 10,001 sqft lot, built in 2001\n",
    "- 3451 Redwing Dr5 beds, 5 baths\n",
    "3,553 sqft, 10,890 sqft lot, built in 2003\n",
    "- 3312 Danlaur Ct4 beds, 3.5 baths\n",
    "4,410 sqft, 12,196 sqft lot, built in 2005\n",
    "- 3727 Nicanoa Ln5 beds, 4.5 baths\n",
    "3,700 sqft, 11,003 sqft lot, built in 2003\n",
    "- 3508 Tall Grass Dr5 beds, 3.5 baths\n",
    "3,405 sqft, 8,751 sqft lot, built in 2000\n",
    "- 24431 Davids Ct4 beds, 2 baths\n",
    "1,371 sqft, 21,000 sqft lot, built in 1972\n",
    "- 3204 Rollingridge Rd4 beds, 3.5 baths\n",
    "4,103 sqft, 9,147 sqft lot, built in 2004\n",
    "- 3511 Kestral Dr5 beds, 3.5 baths\n",
    "3,524 sqft, 10,890 sqft lot, built in 2003\n",
    "- 3716 Nicanoa Ln6 beds, 4.5 baths\n",
    "4,304 sqft, 4,051 sqft lot, built in 2004\n",
    "- 3607 Hector Ln5 beds, 4.5 baths\n",
    "4,205 sqft, 11,325 sqft lot, built in 2003\n",
    "- 3416 Sunnyside Ct5 beds, 4.1 baths\n",
    "3,500 sqft, 14,374 sqft lot, built in 2001\n",
    "- 3408 Sunnyside Ct5 beds, 4.5 baths\n",
    "3,503 sqft, 14,374 sqft lot, built in 2000\n",
    "- 24337 W Boulevard De John3 beds, 2 baths\n",
    "1,734 sqft, 22,651 sqft lot, built in 1974\n",
    "- 3304 Mistflower Ln4 beds, 5 baths\n",
    "3,114 sqft, 10,123 sqft lot, built in 2003\n",
    "Rentals\n",
    "- 24330 W Boulevard De John3 beds, 2 baths\n",
    "-- sqft, -- sqft lot, built in --\n",
    "- 3412 Minito Ct5 beds, 5 baths\n",
    "4,950 sqft, -- sqft lot, built in 2005\n",
    "- 3007 Saganashkee Ln2 beds, 3 baths\n",
    "1,850 sqft, -- sqft lot, built in 2003\n",
    "- 3007 Saganashkee Ln # 30072 beds, 2.5 baths\n",
    "1,850 sqft, -- sqft lot, built in 2003\n",
    "- 3443 Breitwieser Ln4 beds, 3.5 baths\n",
    "3,118 sqft, 10,100 sqft lot, built in 2001\n",
    "- 2809 Wheatland Ct2 beds, 2.5 baths\n",
    "1,550 sqft, -- sqft lot, built in 1998\n",
    "- 2817 Ledgestone Ct3 beds, 2.5 baths\n",
    "1,500 sqft, -- sqft lot, built in 1998\n",
    "- 2812 Cantore Rd3 beds, 2.5 baths\n",
    "1,502 sqft, -- sqft lot, built in 1997\n",
    "- 2876 Cedar Glade Dr3 beds, 2.5 baths\n",
    "1,624 sqft, -- sqft lot, built in 1997\n",
    "- 11336 Highland Dr S4 beds, 2.5 baths\n",
    "2,200 sqft, -- sqft lot, built in 2005\n",
    "- 11338 Highland Dr S4 beds, 2.5 baths\n",
    "2,200 sqft, -- sqft lot, built in 2005\n",
    "- 24008 W Marathon Ln4 beds, 2.5 baths\n",
    "2,400 sqft, -- sqft lot, built in 2001\n",
    "- 2818 Cedar Glade Dr # 28183 beds, 2.5 baths\n",
    "1,502 sqft, -- sqft lot, built in 1997\n",
    "- 2818 Cedar Glade Dr3 beds, 3 baths\n",
    "1,502 sqft, -- sqft lot, built in 1997\n",
    "- 2710 Idaho Rd3 beds, 2.5 baths\n",
    "1,450.6 mi\n",
    "- Scullen Middle (assigned)6-80.3 mi\n",
    "- Waubonsie Valley.\""
   ]
  },
  {
   "cell_type": "markdown",
   "metadata": {},
   "source": [
    "## Jina"
   ]
  },
  {
   "cell_type": "code",
   "execution_count": 1,
   "metadata": {},
   "outputs": [],
   "source": [
    "# from langchain_community.embeddings import JinaEmbeddings\n",
    "# embeddings = JinaEmbeddings(\n",
    "#     jina_api_key=\"jina_b6dea7a5e4074b9683405c67845ecc59hdfFSEyD6cdnVkhicyNhDr-WPKFh\", model_name=\"jina-embeddings-v2-base-en\"\n",
    "# )\n",
    "# text = \"This is a test document.\"\n",
    "# query_result = embeddings.embed_query(text)\n",
    "# print(query_result)\n",
    "# doc_result = embeddings.embed_documents([text])\n",
    "# print(query_result)"
   ]
  },
  {
   "cell_type": "code",
   "execution_count": null,
   "metadata": {},
   "outputs": [],
   "source": []
  },
  {
   "cell_type": "markdown",
   "metadata": {},
   "source": []
  }
 ],
 "metadata": {
  "kernelspec": {
   "display_name": "ml",
   "language": "python",
   "name": "python3"
  },
  "language_info": {
   "codemirror_mode": {
    "name": "ipython",
    "version": 3
   },
   "file_extension": ".py",
   "mimetype": "text/x-python",
   "name": "python",
   "nbconvert_exporter": "python",
   "pygments_lexer": "ipython3",
   "version": "3.9.18"
  }
 },
 "nbformat": 4,
 "nbformat_minor": 2
}
