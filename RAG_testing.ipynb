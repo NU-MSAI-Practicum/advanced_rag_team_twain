{
 "cells": [
  {
   "cell_type": "code",
   "execution_count": 2,
   "metadata": {},
   "outputs": [
    {
     "name": "stdout",
     "output_type": "stream",
     "text": [
      "The autoreload extension is already loaded. To reload it, use:\n",
      "  %reload_ext autoreload\n"
     ]
    }
   ],
   "source": [
    "from CreateDocuments import load_documents\n",
    "import RAG_utils\n",
    "%load_ext autoreload\n",
    "%autoreload 2"
   ]
  },
  {
   "cell_type": "markdown",
   "metadata": {},
   "source": [
    "## Setup"
   ]
  },
  {
   "cell_type": "markdown",
   "metadata": {},
   "source": [
    "### Create chroma database"
   ]
  },
  {
   "cell_type": "code",
   "execution_count": 3,
   "metadata": {},
   "outputs": [
    {
     "name": "stdout",
     "output_type": "stream",
     "text": [
      "Number of documents: 10\n",
      "There are 10 in the collection\n"
     ]
    },
    {
     "data": {
      "text/plain": [
       "['- Roof type: Asphalt\\n- Room count: 11\\n- Stories: 2\\n- Structure type: Other\\n- Unit count: 1\\nOther\\n- Floor size: 3,591 sqft\\n- Heating: Gas\\n- Laundry: In Unit\\n- Parcel #: 0701093130290000\\n- Zillow Home ID: 556842K.\\nMortgages\\nNeighborhood\\nMarket guideZillow predicts 60564 home values will fall 1% next year, compared to a 1.1% decrease for Naperville as a whole. Among 60564 homes, this home is valued 49.3% more than the midpoint (median) home, and is valued 11.5% more per square.\\nLearn more about forecast calculations or 60564 home values.… More Less\\nFor Sale\\n- 3540 Redwing Ct5 beds, 5 baths\\n3,986 sqft, 6,372 sqft lot, built in 2004\\n- 3459 Redwing Dr4 beds, 3.5 baths\\n2,865 sqft, 10,001 sqft lot, built in 2001\\n- 3451 Redwing Dr5 beds, 5 baths\\n3,553 sqft, 10,890 sqft lot, built in 2003\\n- 3312 Danlaur Ct4 beds, 3.5 baths\\n4,410 sqft, 12,196 sqft lot, built in 2005\\n- 3727 Nicanoa Ln5 beds, 4.5 baths\\n3,700 sqft, 11,003 sqft lot, built in 2003\\n- 3508 Tall Grass Dr5 beds, 3.5 baths',\n",
       " \"CACHE COUNTY\\nA nesting site for PURPLE MARTIN was discovered at Monte Cristo on Saturday, 06/24 (VAS, m.obs.). A nest was located near the top of Monte Cristo, along SR 39 between Huntsville and Woodruff. To get there, find the Curtis Creek Road junction near the summit, and look for the large sign with a map of the area. The nest is in a large aspen tree about 100 yards west of the sign.\\nA female WILLIAMSON'S SAPSUCKER was seen in the Tony Grove CG on Saturday,06/24 (PU).\\nDAVIS COUNTY\\nA YELLOW-BILLED CUCKOO was seen in the trees at the Fielding-Garr Ranch at Antelope Island SP on Friday, 06/23 (C&CP,MS).\\nAt FBWMA, A COMMON MOORHEN was seen in the first pond on the right as you enter the refuge on Tuesday, 06/20 (RH).\\nTwo GREAT EGRETS were seen in the pond at the west end of Glover Lane, west of the entrance to FBWMA, on Tuesday, 06/27 (BH).\\nDUCHESNE COUNTY\\nA female WHITE-WINGED CROSSBILL was seen at the east end of the Mirror Lake CG on Tuesday, 06/27 (C&CP,MS).\",\n",
       " '- 3312 Danlaur Ct4 beds, 3.5 baths\\n4,410 sqft, 12,196 sqft lot, built in 2005\\n- 3727 Nicanoa Ln5 beds, 4.5 baths\\n3,700 sqft, 11,003 sqft lot, built in 2003\\n- 3508 Tall Grass Dr5 beds, 3.5 baths\\n3,405 sqft, 8,751 sqft lot, built in 2000\\n- 24431 Davids Ct4 beds, 2 baths\\n1,371 sqft, 21,000 sqft lot, built in 1972\\n- 3204 Rollingridge Rd4 beds, 3.5 baths\\n4,103 sqft, 9,147 sqft lot, built in 2004\\n- 3511 Kestral Dr5 beds, 3.5 baths\\n3,524 sqft, 10,890 sqft lot, built in 2003\\n- 3716 Nicanoa Ln6 beds, 4.5 baths\\n4,304 sqft, 4,051 sqft lot, built in 2004\\n- 3607 Hector Ln5 beds, 4.5 baths\\n4,205 sqft, 11,325 sqft lot, built in 2003\\n- 3416 Sunnyside Ct5 beds, 4.1 baths\\n3,500 sqft, 14,374 sqft lot, built in 2001\\n- 3408 Sunnyside Ct5 beds, 4.5 baths\\n3,503 sqft, 14,374 sqft lot, built in 2000\\n- 24337 W Boulevard De John3 beds, 2 baths\\n1,734 sqft, 22,651 sqft lot, built in 1974\\n- 3304 Mistflower Ln4 beds, 5 baths\\n3,114 sqft, 10,123 sqft lot, built in 2003\\nRentals',\n",
       " \"3524 Redwing Ct, Naperville, IL 60564\\n4 beds5 baths3,591 sqft Edit\\nA Zestimate® home valuation is Zillow's estimated market value. It is not an appraisal. Use it as a starting point to determine a home's value. Learn more\\nFacts\\n- Single Family\\n- Built in 2000\\n- Views: 773 all time views\\n- Cooling: Central, Other\\n- Heating: Forced air, Other\\n- Last sold: Oct 2013 for $595,000\\n- Last sale price/sqft: $166\\nFeatures\\n- Ceiling Fan\\n- Deck\\n- Fireplace\\n- Flooring: Carpet, Hardwood\\n- Mother-in-Law\\n- Parking: Garage - Attached, 3 spaces, 704 sqft\\n- Security System\\n- Vaulted Ceiling\\nAppliances Included\\n- Dishwasher\\n- Dryer\\n- Garbage disposal\\n- Microwave\\n- Range / Oven\\n- Refrigerator\\n- Washer\\nRoom Types\\n- Dining room\\n- Family room\\n- Office\\n- Recreation room\\nConstruction\\n- Exterior material: Brick\\n- Roof type: Asphalt\\n- Room count: 11\\n- Stories: 2\\n- Structure type: Other\\n- Unit count: 1\\nOther\\n- Floor size: 3,591 sqft\\n- Heating: Gas\\n- Laundry: In Unit\\n- Parcel #: 0701093130290000\",\n",
       " \"UTAH COUNTY\\nA THREE-TOED WOODPECKER was seen along the Nebo Loop Road on Thursday, 06/29 (DS). The bird was seen in some old pines about 30 yards south of the parking area for the Nebo Bench trailhead.\\nA WILIAMSON'S SAPSUCKER was seen on the slopes of Mt. Timpanogos on Friday, 06/23 (JR). The bird was about 1/8 mile up the Horse Flat Trail, which starts near the top of the Alpine Loop Drive.\\nA female WOOD DUCK was seen on the Spanish Fork River on Friday, 06/23 (WC). The bird was near where SR 77 crosses the river west of Springville.\\nObservers: WC=Wade Covert, RH=Rich Hoyer (of AZ), EH=Eric Huish, BH=Bob\\nHuntington, C&CP=Carroll & Catherine Pinckard (of MD), JR=James Roberts,\\nDS=Dennis Shirley, VAS=V. Arnold Smith, MS=Mark Stackhouse, SS=Steve Summers, PU=Paul Ustach\\nAbbreviations used:\\nCG = campground\\nFBWMA = Farmington Bay Waterfowl Management Area\\nm.obs. = many observers\\nNM = National Monument\\nNWR = National Wildlife Refuge.\",\n",
       " 'For those that don’t know, the first sets of table top dice combined the D10 and D20 into one all powerful die used to roll percentile as well as attacks. The numbers on the D20 were configured into two sets of 0–9 and 0–9 and it was up to the owner to color in one set of those numbers to differentiate 1–10 from 11–20. Well, we went ahead and took care of that for you by placing a gold dot on one half of the numbers indicating that you should add +10. We understand the adrenaline rush of seeing that NAT 20 come up so we went ahead and placed the five pronged symbol of Arkhan’s Dragon Goddess as the high number not only on the 20 side but also on the high numbers on the other four dice as well!\\nEach set includes a black metal coffin (with magnetic lid) for safe transport.\\nOur Chromatic Gemstone_0<<',\n",
       " '- 2876 Cedar Glade Dr3 beds, 2.5 baths\\n1,624 sqft, -- sqft lot, built in 1997\\n- 11336 Highland Dr S4 beds, 2.5 baths\\n2,200 sqft, -- sqft lot, built in 2005\\n- 11338 Highland Dr S4 beds, 2.5 baths\\n2,200 sqft, -- sqft lot, built in 2005\\n- 24008 W Marathon Ln4 beds, 2.5 baths\\n2,400 sqft, -- sqft lot, built in 2001\\n- 2818 Cedar Glade Dr # 28183 beds, 2.5 baths\\n1,502 sqft, -- sqft lot, built in 1997\\n- 2818 Cedar Glade Dr3 beds, 3 baths\\n1,502 sqft, -- sqft lot, built in 1997\\n- 2710 Idaho Rd3 beds, 2.5 baths\\n1,450.6 mi\\n- Scullen Middle (assigned)6-80.3 mi\\n- Waubonsie Valley.',\n",
       " \"DUCHESNE COUNTY\\nA female WHITE-WINGED CROSSBILL was seen at the east end of the Mirror Lake CG on Tuesday, 06/27 (C&CP,MS).\\nOn Starvation Reservoir, 6 COMMON LOONS were seen on Saturday, 06/24 (EH,DS,m.obs.).\\nIRON COUNTY\\nThe start of the Fall migration was noted in Cedar City, when the season's first RUFOUS HUMMINGBIRD was seen coming to a feeder (SS).\\nSUMMIT COUNTY\\nA COMMON LOON was also seen on Echo Reservoir on Tuesday, 06/27 (C&CP,MS).\\nUINTAH COUNTY\\nA female NORTHERN PARULA was seen at the Josie Morris cabin in Dinosaur NM on Friday, 06/23 (RH).\\nA YELLOW-BILLED CUCKOO was seen at Ouray NWR on Saturday, 06/24 (EH,DS,m.obs.).\\nIn another indication of the start of the Fall migration, BLACK-BELLIED PLOVERS and MARBLED GODWITS were seen at Pelican Lake on Saturday, 06/24. A GREAT EGRET was also at the lake on that day (EH,DS,m.obs.).\\nUTAH COUNTY\",\n",
       " 'At last, a dice set fit for a Dragon Highlord!\\nPresenting the Death Saves / Norse Foundry Arkhan the Cruel™ dice set and coffin.\\nThis gorgeous multi-colored set of gemstone dice represent the power of the five races of the Chromatic Dragons and harken back to the very first Creative Publications / Holmes polyhedral dice ever made in the early to mid 1970s.',\n",
       " '- 24337 W Boulevard De John3 beds, 2 baths\\n1,734 sqft, 22,651 sqft lot, built in 1974\\n- 3304 Mistflower Ln4 beds, 5 baths\\n3,114 sqft, 10,123 sqft lot, built in 2003\\nRentals\\n- 24330 W Boulevard De John3 beds, 2 baths\\n-- sqft, -- sqft lot, built in --\\n- 3412 Minito Ct5 beds, 5 baths\\n4,950 sqft, -- sqft lot, built in 2005\\n- 3007 Saganashkee Ln2 beds, 3 baths\\n1,850 sqft, -- sqft lot, built in 2003\\n- 3007 Saganashkee Ln # 30072 beds, 2.5 baths\\n1,850 sqft, -- sqft lot, built in 2003\\n- 3443 Breitwieser Ln4 beds, 3.5 baths\\n3,118 sqft, 10,100 sqft lot, built in 2001\\n- 2809 Wheatland Ct2 beds, 2.5 baths\\n1,550 sqft, -- sqft lot, built in 1998\\n- 2817 Ledgestone Ct3 beds, 2.5 baths\\n1,500 sqft, -- sqft lot, built in 1998\\n- 2812 Cantore Rd3 beds, 2.5 baths\\n1,502 sqft, -- sqft lot, built in 1997\\n- 2876 Cedar Glade Dr3 beds, 2.5 baths\\n1,624 sqft, -- sqft lot, built in 1997\\n- 11336 Highland Dr S4 beds, 2.5 baths\\n2,200 sqft, -- sqft lot, built in 2005\\n- 11338 Highland Dr S4 beds, 2.5 baths']"
      ]
     },
     "execution_count": 3,
     "metadata": {},
     "output_type": "execute_result"
    }
   ],
   "source": [
    "db = RAG_utils.create_chroma_db()\n",
    "db._collection.peek()['documents']"
   ]
  },
  {
   "cell_type": "markdown",
   "metadata": {},
   "source": [
    "# Tests"
   ]
  },
  {
   "cell_type": "markdown",
   "metadata": {},
   "source": [
    "### Example vector search of database given a question"
   ]
  },
  {
   "cell_type": "code",
   "execution_count": 16,
   "metadata": {},
   "outputs": [
    {
     "name": "stdout",
     "output_type": "stream",
     "text": [
      "doc: 1 ====================================================================================================\n",
      "- Roof type: Asphalt\n",
      "- Room count: 11\n",
      "- Stories: 2\n",
      "- Structure type: Other\n",
      "- Unit count: 1\n",
      "Other\n",
      "- Floor size: 3,591 sqft\n",
      "- Heating: Gas\n",
      "- Laundry: In Unit\n",
      "- Parcel #: 0701093130290000\n",
      "- Zillow Home ID: 556842K.\n",
      "Mortgages\n",
      "Neighborhood\n",
      "Market guideZillow predicts 60564 home values will fall 1% next year, compared to a 1.1% decrease for Naperville as a whole. Among 60564 homes, this home is valued 49.3% more than the midpoint (median) home, and is valued 11.5% more per square.\n",
      "Learn more about forecast calculations or 60564 home values.… More Less\n",
      "For Sale\n",
      "- 3540 Redwing Ct5 beds, 5 baths\n",
      "3,986 sqft, 6,372 sqft lot, built in 2004\n",
      "- 3459 Redwing Dr4 beds, 3.5 baths\n",
      "2,865 sqft, 10,001 sqft lot, built in 2001\n",
      "- 3451 Redwing Dr5 beds, 5 baths\n",
      "3,553 sqft, 10,890 sqft lot, built in 2003\n",
      "- 3312 Danlaur Ct4 beds, 3.5 baths\n",
      "4,410 sqft, 12,196 sqft lot, built in 2005\n",
      "- 3727 Nicanoa Ln5 beds, 4.5 baths\n",
      "3,700 sqft, 11,003 sqft lot, built in 2003\n",
      "- 3508 Tall Grass Dr5 beds, 3.5 baths\n",
      "doc: 2 ====================================================================================================\n",
      "3524 Redwing Ct, Naperville, IL 60564\n",
      "4 beds5 baths3,591 sqft Edit\n",
      "A Zestimate® home valuation is Zillow's estimated market value. It is not an appraisal. Use it as a starting point to determine a home's value. Learn more\n",
      "Facts\n",
      "- Single Family\n",
      "- Built in 2000\n",
      "- Views: 773 all time views\n",
      "- Cooling: Central, Other\n",
      "- Heating: Forced air, Other\n",
      "- Last sold: Oct 2013 for $595,000\n",
      "- Last sale price/sqft: $166\n",
      "Features\n",
      "- Ceiling Fan\n",
      "- Deck\n",
      "- Fireplace\n",
      "- Flooring: Carpet, Hardwood\n",
      "- Mother-in-Law\n",
      "- Parking: Garage - Attached, 3 spaces, 704 sqft\n",
      "- Security System\n",
      "- Vaulted Ceiling\n",
      "Appliances Included\n",
      "- Dishwasher\n",
      "- Dryer\n",
      "- Garbage disposal\n",
      "- Microwave\n",
      "- Range / Oven\n",
      "- Refrigerator\n",
      "- Washer\n",
      "Room Types\n",
      "- Dining room\n",
      "- Family room\n",
      "- Office\n",
      "- Recreation room\n",
      "Construction\n",
      "- Exterior material: Brick\n",
      "- Roof type: Asphalt\n",
      "- Room count: 11\n",
      "- Stories: 2\n",
      "- Structure type: Other\n",
      "- Unit count: 1\n",
      "Other\n",
      "- Floor size: 3,591 sqft\n",
      "- Heating: Gas\n",
      "- Laundry: In Unit\n",
      "- Parcel #: 0701093130290000\n",
      "doc: 3 ====================================================================================================\n",
      "- 24337 W Boulevard De John3 beds, 2 baths\n",
      "1,734 sqft, 22,651 sqft lot, built in 1974\n",
      "- 3304 Mistflower Ln4 beds, 5 baths\n",
      "3,114 sqft, 10,123 sqft lot, built in 2003\n",
      "Rentals\n",
      "- 24330 W Boulevard De John3 beds, 2 baths\n",
      "-- sqft, -- sqft lot, built in --\n",
      "- 3412 Minito Ct5 beds, 5 baths\n",
      "4,950 sqft, -- sqft lot, built in 2005\n",
      "- 3007 Saganashkee Ln2 beds, 3 baths\n",
      "1,850 sqft, -- sqft lot, built in 2003\n",
      "- 3007 Saganashkee Ln # 30072 beds, 2.5 baths\n",
      "1,850 sqft, -- sqft lot, built in 2003\n",
      "- 3443 Breitwieser Ln4 beds, 3.5 baths\n",
      "3,118 sqft, 10,100 sqft lot, built in 2001\n",
      "- 2809 Wheatland Ct2 beds, 2.5 baths\n",
      "1,550 sqft, -- sqft lot, built in 1998\n",
      "- 2817 Ledgestone Ct3 beds, 2.5 baths\n",
      "1,500 sqft, -- sqft lot, built in 1998\n",
      "- 2812 Cantore Rd3 beds, 2.5 baths\n",
      "1,502 sqft, -- sqft lot, built in 1997\n",
      "- 2876 Cedar Glade Dr3 beds, 2.5 baths\n",
      "1,624 sqft, -- sqft lot, built in 1997\n",
      "- 11336 Highland Dr S4 beds, 2.5 baths\n",
      "2,200 sqft, -- sqft lot, built in 2005\n",
      "- 11338 Highland Dr S4 beds, 2.5 baths\n",
      "doc: 4 ====================================================================================================\n",
      "- 3312 Danlaur Ct4 beds, 3.5 baths\n",
      "4,410 sqft, 12,196 sqft lot, built in 2005\n",
      "- 3727 Nicanoa Ln5 beds, 4.5 baths\n",
      "3,700 sqft, 11,003 sqft lot, built in 2003\n",
      "- 3508 Tall Grass Dr5 beds, 3.5 baths\n",
      "3,405 sqft, 8,751 sqft lot, built in 2000\n",
      "- 24431 Davids Ct4 beds, 2 baths\n",
      "1,371 sqft, 21,000 sqft lot, built in 1972\n",
      "- 3204 Rollingridge Rd4 beds, 3.5 baths\n",
      "4,103 sqft, 9,147 sqft lot, built in 2004\n",
      "- 3511 Kestral Dr5 beds, 3.5 baths\n",
      "3,524 sqft, 10,890 sqft lot, built in 2003\n",
      "- 3716 Nicanoa Ln6 beds, 4.5 baths\n",
      "4,304 sqft, 4,051 sqft lot, built in 2004\n",
      "- 3607 Hector Ln5 beds, 4.5 baths\n",
      "4,205 sqft, 11,325 sqft lot, built in 2003\n",
      "- 3416 Sunnyside Ct5 beds, 4.1 baths\n",
      "3,500 sqft, 14,374 sqft lot, built in 2001\n",
      "- 3408 Sunnyside Ct5 beds, 4.5 baths\n",
      "3,503 sqft, 14,374 sqft lot, built in 2000\n",
      "- 24337 W Boulevard De John3 beds, 2 baths\n",
      "1,734 sqft, 22,651 sqft lot, built in 1974\n",
      "- 3304 Mistflower Ln4 beds, 5 baths\n",
      "3,114 sqft, 10,123 sqft lot, built in 2003\n",
      "Rentals\n",
      "doc: 5 ====================================================================================================\n",
      "- 2876 Cedar Glade Dr3 beds, 2.5 baths\n",
      "1,624 sqft, -- sqft lot, built in 1997\n",
      "- 11336 Highland Dr S4 beds, 2.5 baths\n",
      "2,200 sqft, -- sqft lot, built in 2005\n",
      "- 11338 Highland Dr S4 beds, 2.5 baths\n",
      "2,200 sqft, -- sqft lot, built in 2005\n",
      "- 24008 W Marathon Ln4 beds, 2.5 baths\n",
      "2,400 sqft, -- sqft lot, built in 2001\n",
      "- 2818 Cedar Glade Dr # 28183 beds, 2.5 baths\n",
      "1,502 sqft, -- sqft lot, built in 1997\n",
      "- 2818 Cedar Glade Dr3 beds, 3 baths\n",
      "1,502 sqft, -- sqft lot, built in 1997\n",
      "- 2710 Idaho Rd3 beds, 2.5 baths\n",
      "1,450.6 mi\n",
      "- Scullen Middle (assigned)6-80.3 mi\n",
      "- Waubonsie Valley.\n"
     ]
    }
   ],
   "source": [
    "question = 'When was the house at 3524 Redwing Ct, Naperville, IL 60564 last sold and for what price?'\n",
    "docs = db.similarity_search_with_relevance_scores(question, k=5)\n",
    "for i, doc in enumerate(docs):\n",
    "    print('doc:', i+1, '='*100)\n",
    "    print(doc[0].page_content)"
   ]
  },
  {
   "cell_type": "markdown",
   "metadata": {},
   "source": [
    "Note: the document with the correct context is ranked 2nd in the list."
   ]
  },
  {
   "cell_type": "markdown",
   "metadata": {},
   "source": [
    "### HuggingFaceH4/zephyr-7b-beta via langchain HF API (langchain_community.llms.HuggingFaceHub)"
   ]
  },
  {
   "cell_type": "code",
   "execution_count": 17,
   "metadata": {},
   "outputs": [
    {
     "name": "stdout",
     "output_type": "stream",
     "text": [
      "When was the house at 3524 Redwing Ct, Naperville, IL 60564 last sold and for what price?\n",
      "\n",
      "The house at 3524 Redwing Ct, Naperville, IL 60564 was last sold in October 2013 for $595,000.\n"
     ]
    }
   ],
   "source": [
    "question = 'When was the house at 3524 Redwing Ct, Naperville, IL 60564 last sold and for what price?'\n",
    "\n",
    "prompt_template1 = \"\"\"Your are a helpful assistant. Please answer in one sentence. Answer the question based only on the following context:\n",
    "{context}\n",
    "Question: {question}\n",
    "Answer: \n",
    "\"\"\"\n",
    "\n",
    "documents = db.similarity_search_with_relevance_scores(question, k=5)\n",
    "context = RAG_utils.format_docs([doc[0] for doc in documents])\n",
    "prompt_text = prompt_template1.format(context=context, question=question)\n",
    "\n",
    "answer = RAG_utils.gen_text_hf_api(lm_name='HuggingFaceH4/zephyr-7b-beta', prompt_text=prompt_text)\n",
    "print(question)\n",
    "print(answer)"
   ]
  },
  {
   "cell_type": "markdown",
   "metadata": {},
   "source": [
    "The answer is exactly as expected."
   ]
  },
  {
   "cell_type": "markdown",
   "metadata": {},
   "source": [
    "### HuggingFaceH4/zephyr-7b-beta via transformers.AutoModelForCausalLM"
   ]
  },
  {
   "cell_type": "code",
   "execution_count": 6,
   "metadata": {},
   "outputs": [
    {
     "name": "stderr",
     "output_type": "stream",
     "text": [
      "Loading checkpoint shards: 100%|██████████| 8/8 [00:25<00:00,  3.23s/it]\n"
     ]
    },
    {
     "name": "stdout",
     "output_type": "stream",
     "text": [
      "When was the house at 3524 Redwing Ct, Naperville, IL 60564 last sold and for what price?\n",
      "< in.am are the205ms,\n",
      ",700 sq.,  mft lot\n",
      " built in 2999\n",
      "$ 2 car1 days sq Nland Dr,,,, 2.5 baths\n",
      "1,140 sqft, -- sqft lot, built in 1000\n",
      "- 11348 Highland Dr S4 beds, 2.5 baths\n",
      "2Based 1115 Highbury Dr Drt S beds, 2 bath5 baths\n",
      "2,106 sqft, --0.,000 sqft lot, built in 1005\n",
      "- 3315 HighWor Drn4 beds, 3 bath5 baths\n",
      "4,880 sqft, --12,400 sqft lot, built in 2005\n",
      "- 3711 Nadass Dr5 beds, 4 bath5 baths\n",
      "3,700 sqft, 1,750 sqft lot, built in 2004\n",
      "- 3815 N Nies Drt5 beds, 3.s\n",
      "2,986 sqft, --6,,200 sqft lot, built in 1998\n",
      "- 2511 Ning M Drd4 beds, 2 bath5 baths\n",
      "2,100 sqft, 1,704 sqft lot, built in 2004\n",
      "- 3211 Tallahrel Dr5 beds, 3.5 baths\n",
      "4,785 sqft, 80,008 sqft lot, built in 2000\n",
      "- 3511 Nicanoa Ln5 beds, 4 bath5 baths\n",
      "4,220 sqft, 1,806 sqft lot, built in 2003\n",
      "- 3518 Nau Drn5 beds, 3 bath5 baths\n",
      "4,250 sqft, 10,048 sqft lot, built in 2004\n",
      "- 3611 Kaddleyside Drt5 beds, 3 bath5 baths\n",
      "4,980 sqft, 10,275 sqft lot, built in 2003\n",
      "- 3416 Sunnyside Ct5 beds, 4.1 baths\n",
      "3,500 sqft, 14,374 sqft lot, built in 2001\n",
      "- 34421 Davaimlevard4er  beds, 2 baths\n",
      "1,422 sqft, --11,006 sqft lot, built in 1972\n",
      "- 3418 Danyower Drn5 beds, 3 baths\n",
      "4,885 sqft, 11,245 sqft lot, built in 2003\n",
      "-entals in-- 3415 Nedar Aveade Dr4 beds, 2 bath5 baths\n",
      "1,824 sqft, -- sqft lot, built in 1997\n",
      "- 21336 Highland Dr S4 beds, 2.5 baths\n",
      "2,200 sqft, -- sqft lot, built in 2005\n",
      "- 11338 Highland Dr S4 beds, 2.5 baths\n",
      "\n",
      ",200 sqft, -- sqft lot, built in 2005\n",
      "- 3448 W W qu Aven3 beds, 2 bath5 baths\n",
      "1,100 sqft, -- sqft lot, built in 2005\n",
      "- 3471 Cedar Glade Dr3113183 beds, 2 bath5 baths\n",
      "1,690 sqft, -- sqft lot, built in 1997\n",
      "- 2818 Cedar Glade Dr # beds, 2 baths\n",
      "1,502 sqft, -- sqft lot, built in 1997\n",
      "- 2818 Caho Aved # beds, 2 bath5 baths\n",
      "1,686 sq0 sq.1 enton, School0igned),\n",
      ".8\n",
      "06 mi\n",
      "- Ciponsie Valley High High-: What is the last at 3310 Tall Oak Drt built Aurerville, IL,60565 built sold, for how price?\n",
      "Answer: The3\n",
      "\n"
     ]
    }
   ],
   "source": [
    "question = 'When was the house at 3524 Redwing Ct, Naperville, IL 60564 last sold and for what price?'\n",
    "\n",
    "prompt_template1  = \"\"\"Your are a helpful assistant. Please answer in one sentence. Answer the question based only on the following context:\n",
    "{context}\n",
    "Question: {question}\n",
    "Answer: \n",
    "\"\"\"\n",
    "\n",
    "documents = db.similarity_search_with_relevance_scores(question, k=5)\n",
    "context = RAG_utils.format_docs([doc[0] for doc in documents])\n",
    "\n",
    "lm, tokenizer = RAG_utils.load_lm_and_tokenizer('HuggingFaceH4/zephyr-7b-beta', config_updates={'do_sample': True,\n",
    "                                                                                                'max_new_tokens': 250, \n",
    "                                                                                                'top_k': 30,\n",
    "                                                                                                'temperature': 1,\n",
    "                                                                                                'repetition_penalty': 1.03,}) # Note: config setting does not appear to make a difference\n",
    "\n",
    "answer = RAG_utils.gen_text_hf_local(lm, tokenizer, prompt_template1, context, question)\n",
    "\n",
    "print(question)\n",
    "print(answer)"
   ]
  },
  {
   "cell_type": "markdown",
   "metadata": {},
   "source": [
    "Loading the model directly from HF is not working properly. It runs, but the generated responses often do not even include the right answer at all, and are usually too long."
   ]
  },
  {
   "cell_type": "markdown",
   "metadata": {},
   "source": [
    "### HF API same context, different question"
   ]
  },
  {
   "cell_type": "code",
   "execution_count": 11,
   "metadata": {},
   "outputs": [
    {
     "data": {
      "text/plain": [
       "\"3524 Redwing Ct, Naperville, IL 60564\\n4 beds5 baths3,591 sqft Edit\\nA Zestimate® home valuation is Zillow's estimated market value. It is not an appraisal. Use it as a starting point to determine a home's value. Learn more\\nFacts\\n- Single Family\\n- Built in 2000\\n- Views: 773 all time views\\n- Cooling: Central, Other\\n- Heating: Forced air, Other\\n- Last sold: Oct 2013 for $595,000\\n- Last sale price/sqft: $166\\nFeatures\\n- Ceiling Fan\\n- Deck\\n- Fireplace\\n- Flooring: Carpet, Hardwood\\n- Mother-in-Law\\n- Parking: Garage - Attached, 3 spaces, 704 sqft\\n- Security System\\n- Vaulted Ceiling\\nAppliances Included\\n- Dishwasher\\n- Dryer\\n- Garbage disposal\\n- Microwave\\n- Range / Oven\\n- Refrigerator\\n- Washer\\nRoom Types\\n- Dining room\\n- Family room\\n- Office\\n- Recreation room\\nConstruction\\n- Exterior material: Brick\\n- Roof type: Asphalt\\n- Room count: 11\\n- Stories: 2\\n- Structure type: Other\\n- Unit count: 1\\nOther\\n- Floor size: 3,591 sqft\\n- Heating: Gas\\n- Laundry: In Unit\\n- Parcel #: 0701093130290000\""
      ]
     },
     "execution_count": 11,
     "metadata": {},
     "output_type": "execute_result"
    }
   ],
   "source": [
    "docs[1][0].page_content # the relevant document"
   ]
  },
  {
   "cell_type": "code",
   "execution_count": 26,
   "metadata": {},
   "outputs": [
    {
     "name": "stdout",
     "output_type": "stream",
     "text": [
      "What was the address of the house sold for $595,000 in October 2013?\n",
      "\n",
      "The address of the house sold for $595,000 in October 2013 is not explicitly stated in the given context. However, based on the information provided, it can be inferred that the house with the following details was sold for $595,000 in October 2013:\n",
      "\n",
      "- 4 bedrooms\n",
      "- 5 bathrooms\n",
      "- 3,591 square feet\n",
      "- Built in 2000\n",
      "- Located at 3524 Redwing Ct, Naperville, IL 60564\n",
      "\n",
      "However, this information should be confirmed through additional sources or by contacting the real estate agent or seller involved in the transaction.\n"
     ]
    },
    {
     "name": "stderr",
     "output_type": "stream",
     "text": [
      "/Users/ryankish/miniforge3/envs/ml/lib/python3.9/site-packages/langchain_core/vectorstores.py:330: UserWarning: Relevance scores must be between 0 and 1, got [(Document(page_content='- Roof type: Asphalt\\n- Room count: 11\\n- Stories: 2\\n- Structure type: Other\\n- Unit count: 1\\nOther\\n- Floor size: 3,591 sqft\\n- Heating: Gas\\n- Laundry: In Unit\\n- Parcel #: 0701093130290000\\n- Zillow Home ID: 556842K.\\nMortgages\\nNeighborhood\\nMarket guideZillow predicts 60564 home values will fall 1% next year, compared to a 1.1% decrease for Naperville as a whole. Among 60564 homes, this home is valued 49.3% more than the midpoint (median) home, and is valued 11.5% more per square.\\nLearn more about forecast calculations or 60564 home values.… More Less\\nFor Sale\\n- 3540 Redwing Ct5 beds, 5 baths\\n3,986 sqft, 6,372 sqft lot, built in 2004\\n- 3459 Redwing Dr4 beds, 3.5 baths\\n2,865 sqft, 10,001 sqft lot, built in 2001\\n- 3451 Redwing Dr5 beds, 5 baths\\n3,553 sqft, 10,890 sqft lot, built in 2003\\n- 3312 Danlaur Ct4 beds, 3.5 baths\\n4,410 sqft, 12,196 sqft lot, built in 2005\\n- 3727 Nicanoa Ln5 beds, 4.5 baths\\n3,700 sqft, 11,003 sqft lot, built in 2003\\n- 3508 Tall Grass Dr5 beds, 3.5 baths'), 0.23295653576264042), (Document(page_content=\"3524 Redwing Ct, Naperville, IL 60564\\n4 beds5 baths3,591 sqft Edit\\nA Zestimate® home valuation is Zillow's estimated market value. It is not an appraisal. Use it as a starting point to determine a home's value. Learn more\\nFacts\\n- Single Family\\n- Built in 2000\\n- Views: 773 all time views\\n- Cooling: Central, Other\\n- Heating: Forced air, Other\\n- Last sold: Oct 2013 for $595,000\\n- Last sale price/sqft: $166\\nFeatures\\n- Ceiling Fan\\n- Deck\\n- Fireplace\\n- Flooring: Carpet, Hardwood\\n- Mother-in-Law\\n- Parking: Garage - Attached, 3 spaces, 704 sqft\\n- Security System\\n- Vaulted Ceiling\\nAppliances Included\\n- Dishwasher\\n- Dryer\\n- Garbage disposal\\n- Microwave\\n- Range / Oven\\n- Refrigerator\\n- Washer\\nRoom Types\\n- Dining room\\n- Family room\\n- Office\\n- Recreation room\\nConstruction\\n- Exterior material: Brick\\n- Roof type: Asphalt\\n- Room count: 11\\n- Stories: 2\\n- Structure type: Other\\n- Unit count: 1\\nOther\\n- Floor size: 3,591 sqft\\n- Heating: Gas\\n- Laundry: In Unit\\n- Parcel #: 0701093130290000\"), 0.14786370088685352), (Document(page_content='- 24337 W Boulevard De John3 beds, 2 baths\\n1,734 sqft, 22,651 sqft lot, built in 1974\\n- 3304 Mistflower Ln4 beds, 5 baths\\n3,114 sqft, 10,123 sqft lot, built in 2003\\nRentals\\n- 24330 W Boulevard De John3 beds, 2 baths\\n-- sqft, -- sqft lot, built in --\\n- 3412 Minito Ct5 beds, 5 baths\\n4,950 sqft, -- sqft lot, built in 2005\\n- 3007 Saganashkee Ln2 beds, 3 baths\\n1,850 sqft, -- sqft lot, built in 2003\\n- 3007 Saganashkee Ln # 30072 beds, 2.5 baths\\n1,850 sqft, -- sqft lot, built in 2003\\n- 3443 Breitwieser Ln4 beds, 3.5 baths\\n3,118 sqft, 10,100 sqft lot, built in 2001\\n- 2809 Wheatland Ct2 beds, 2.5 baths\\n1,550 sqft, -- sqft lot, built in 1998\\n- 2817 Ledgestone Ct3 beds, 2.5 baths\\n1,500 sqft, -- sqft lot, built in 1998\\n- 2812 Cantore Rd3 beds, 2.5 baths\\n1,502 sqft, -- sqft lot, built in 1997\\n- 2876 Cedar Glade Dr3 beds, 2.5 baths\\n1,624 sqft, -- sqft lot, built in 1997\\n- 11336 Highland Dr S4 beds, 2.5 baths\\n2,200 sqft, -- sqft lot, built in 2005\\n- 11338 Highland Dr S4 beds, 2.5 baths'), 0.017962622741114043), (Document(page_content='- 3312 Danlaur Ct4 beds, 3.5 baths\\n4,410 sqft, 12,196 sqft lot, built in 2005\\n- 3727 Nicanoa Ln5 beds, 4.5 baths\\n3,700 sqft, 11,003 sqft lot, built in 2003\\n- 3508 Tall Grass Dr5 beds, 3.5 baths\\n3,405 sqft, 8,751 sqft lot, built in 2000\\n- 24431 Davids Ct4 beds, 2 baths\\n1,371 sqft, 21,000 sqft lot, built in 1972\\n- 3204 Rollingridge Rd4 beds, 3.5 baths\\n4,103 sqft, 9,147 sqft lot, built in 2004\\n- 3511 Kestral Dr5 beds, 3.5 baths\\n3,524 sqft, 10,890 sqft lot, built in 2003\\n- 3716 Nicanoa Ln6 beds, 4.5 baths\\n4,304 sqft, 4,051 sqft lot, built in 2004\\n- 3607 Hector Ln5 beds, 4.5 baths\\n4,205 sqft, 11,325 sqft lot, built in 2003\\n- 3416 Sunnyside Ct5 beds, 4.1 baths\\n3,500 sqft, 14,374 sqft lot, built in 2001\\n- 3408 Sunnyside Ct5 beds, 4.5 baths\\n3,503 sqft, 14,374 sqft lot, built in 2000\\n- 24337 W Boulevard De John3 beds, 2 baths\\n1,734 sqft, 22,651 sqft lot, built in 1974\\n- 3304 Mistflower Ln4 beds, 5 baths\\n3,114 sqft, 10,123 sqft lot, built in 2003\\nRentals'), -0.014579627165469677), (Document(page_content='- 2876 Cedar Glade Dr3 beds, 2.5 baths\\n1,624 sqft, -- sqft lot, built in 1997\\n- 11336 Highland Dr S4 beds, 2.5 baths\\n2,200 sqft, -- sqft lot, built in 2005\\n- 11338 Highland Dr S4 beds, 2.5 baths\\n2,200 sqft, -- sqft lot, built in 2005\\n- 24008 W Marathon Ln4 beds, 2.5 baths\\n2,400 sqft, -- sqft lot, built in 2001\\n- 2818 Cedar Glade Dr # 28183 beds, 2.5 baths\\n1,502 sqft, -- sqft lot, built in 1997\\n- 2818 Cedar Glade Dr3 beds, 3 baths\\n1,502 sqft, -- sqft lot, built in 1997\\n- 2710 Idaho Rd3 beds, 2.5 baths\\n1,450.6 mi\\n- Scullen Middle (assigned)6-80.3 mi\\n- Waubonsie Valley.'), -0.0589053989135877)]\n",
      "  warnings.warn(\n"
     ]
    }
   ],
   "source": [
    "question = \"What was the address of the house sold for $595,000 in October 2013?\"\n",
    "\n",
    "prompt_template1 = \"\"\"Your are a helpful assistant. Please answer in one sentence. Answer the question based only on the following context:\n",
    "{context}\n",
    "Question: {question}\n",
    "Answer: \n",
    "\"\"\"\n",
    "\n",
    "documents = db.similarity_search_with_relevance_scores(question, k=5)\n",
    "context = RAG_utils.format_docs([doc[0] for doc in documents])\n",
    "prompt_text = prompt_template1.format(context=context, question=question)\n",
    "\n",
    "answer = RAG_utils.gen_text_hf_api(lm_name='HuggingFaceH4/zephyr-7b-beta', prompt_text=prompt_text)\n",
    "print(question)\n",
    "print(answer)"
   ]
  },
  {
   "cell_type": "markdown",
   "metadata": {},
   "source": [
    "It cannot answer the question accurately given the correct context."
   ]
  },
  {
   "cell_type": "markdown",
   "metadata": {},
   "source": [
    "### HF API - RAG context from row 7771"
   ]
  },
  {
   "cell_type": "code",
   "execution_count": 31,
   "metadata": {},
   "outputs": [
    {
     "name": "stdout",
     "output_type": "stream",
     "text": [
      "What does the multi-colored set of gemstone dice represent in the Death Saves / Norse Foundry Arkhan the Cruel™ dice set?\n",
      "\n",
      "The multi-colored set of gemstone dice in the Death Saves / Norse Foundry Arkhan the Cruel™ dice set represents the power of the five races of the Chromatic Dragons and harks back to the very first Creative Publications / Holmes polyhedral dice ever made in the early to mid 1970s. These dice combine the D10 and D20 into one all-powerful die used to roll percentile as well as attacks, with the numbers on the D20 configured into two sets of 0–9 and the owner coloring in one set of those numbers to differentiate 1–10 from 11–20. In this set, a gold dot is placed on one half of the numbers to indicate that the high number should be added to +10, and the five-pronged symbol of Arkhan's Dragon Goddess is placed not only on the high number of the D20 but also on the high numbers of the other four dice.\n",
      "True answer: The multi-colored set of gemstone dice represent the power of the five races of the Chromatic Dragons.\n"
     ]
    },
    {
     "name": "stderr",
     "output_type": "stream",
     "text": [
      "/Users/ryankish/miniforge3/envs/ml/lib/python3.9/site-packages/langchain_core/vectorstores.py:330: UserWarning: Relevance scores must be between 0 and 1, got [(Document(page_content='At last, a dice set fit for a Dragon Highlord!\\nPresenting the Death Saves / Norse Foundry Arkhan the Cruel™ dice set and coffin.\\nThis gorgeous multi-colored set of gemstone dice represent the power of the five races of the Chromatic Dragons and harken back to the very first Creative Publications / Holmes polyhedral dice ever made in the early to mid 1970s.'), 0.7405893568901083), (Document(page_content='For those that don’t know, the first sets of table top dice combined the D10 and D20 into one all powerful die used to roll percentile as well as attacks. The numbers on the D20 were configured into two sets of 0–9 and 0–9 and it was up to the owner to color in one set of those numbers to differentiate 1–10 from 11–20. Well, we went ahead and took care of that for you by placing a gold dot on one half of the numbers indicating that you should add +10. We understand the adrenaline rush of seeing that NAT 20 come up so we went ahead and placed the five pronged symbol of Arkhan’s Dragon Goddess as the high number not only on the 20 side but also on the high numbers on the other four dice as well!\\nEach set includes a black metal coffin (with magnetic lid) for safe transport.\\nOur Chromatic Gemstone_0<<'), 0.5049090669969638), (Document(page_content='- 3312 Danlaur Ct4 beds, 3.5 baths\\n4,410 sqft, 12,196 sqft lot, built in 2005\\n- 3727 Nicanoa Ln5 beds, 4.5 baths\\n3,700 sqft, 11,003 sqft lot, built in 2003\\n- 3508 Tall Grass Dr5 beds, 3.5 baths\\n3,405 sqft, 8,751 sqft lot, built in 2000\\n- 24431 Davids Ct4 beds, 2 baths\\n1,371 sqft, 21,000 sqft lot, built in 1972\\n- 3204 Rollingridge Rd4 beds, 3.5 baths\\n4,103 sqft, 9,147 sqft lot, built in 2004\\n- 3511 Kestral Dr5 beds, 3.5 baths\\n3,524 sqft, 10,890 sqft lot, built in 2003\\n- 3716 Nicanoa Ln6 beds, 4.5 baths\\n4,304 sqft, 4,051 sqft lot, built in 2004\\n- 3607 Hector Ln5 beds, 4.5 baths\\n4,205 sqft, 11,325 sqft lot, built in 2003\\n- 3416 Sunnyside Ct5 beds, 4.1 baths\\n3,500 sqft, 14,374 sqft lot, built in 2001\\n- 3408 Sunnyside Ct5 beds, 4.5 baths\\n3,503 sqft, 14,374 sqft lot, built in 2000\\n- 24337 W Boulevard De John3 beds, 2 baths\\n1,734 sqft, 22,651 sqft lot, built in 1974\\n- 3304 Mistflower Ln4 beds, 5 baths\\n3,114 sqft, 10,123 sqft lot, built in 2003\\nRentals'), -0.17684852945986984), (Document(page_content='- 2876 Cedar Glade Dr3 beds, 2.5 baths\\n1,624 sqft, -- sqft lot, built in 1997\\n- 11336 Highland Dr S4 beds, 2.5 baths\\n2,200 sqft, -- sqft lot, built in 2005\\n- 11338 Highland Dr S4 beds, 2.5 baths\\n2,200 sqft, -- sqft lot, built in 2005\\n- 24008 W Marathon Ln4 beds, 2.5 baths\\n2,400 sqft, -- sqft lot, built in 2001\\n- 2818 Cedar Glade Dr # 28183 beds, 2.5 baths\\n1,502 sqft, -- sqft lot, built in 1997\\n- 2818 Cedar Glade Dr3 beds, 3 baths\\n1,502 sqft, -- sqft lot, built in 1997\\n- 2710 Idaho Rd3 beds, 2.5 baths\\n1,450.6 mi\\n- Scullen Middle (assigned)6-80.3 mi\\n- Waubonsie Valley.'), -0.19668167423852423), (Document(page_content='- 24337 W Boulevard De John3 beds, 2 baths\\n1,734 sqft, 22,651 sqft lot, built in 1974\\n- 3304 Mistflower Ln4 beds, 5 baths\\n3,114 sqft, 10,123 sqft lot, built in 2003\\nRentals\\n- 24330 W Boulevard De John3 beds, 2 baths\\n-- sqft, -- sqft lot, built in --\\n- 3412 Minito Ct5 beds, 5 baths\\n4,950 sqft, -- sqft lot, built in 2005\\n- 3007 Saganashkee Ln2 beds, 3 baths\\n1,850 sqft, -- sqft lot, built in 2003\\n- 3007 Saganashkee Ln # 30072 beds, 2.5 baths\\n1,850 sqft, -- sqft lot, built in 2003\\n- 3443 Breitwieser Ln4 beds, 3.5 baths\\n3,118 sqft, 10,100 sqft lot, built in 2001\\n- 2809 Wheatland Ct2 beds, 2.5 baths\\n1,550 sqft, -- sqft lot, built in 1998\\n- 2817 Ledgestone Ct3 beds, 2.5 baths\\n1,500 sqft, -- sqft lot, built in 1998\\n- 2812 Cantore Rd3 beds, 2.5 baths\\n1,502 sqft, -- sqft lot, built in 1997\\n- 2876 Cedar Glade Dr3 beds, 2.5 baths\\n1,624 sqft, -- sqft lot, built in 1997\\n- 11336 Highland Dr S4 beds, 2.5 baths\\n2,200 sqft, -- sqft lot, built in 2005\\n- 11338 Highland Dr S4 beds, 2.5 baths'), -0.21844205705482955)]\n",
      "  warnings.warn(\n"
     ]
    }
   ],
   "source": [
    "question = \"What does the multi-colored set of gemstone dice represent in the Death Saves / Norse Foundry Arkhan the Cruel™ dice set?\"\n",
    "\n",
    "prompt_template1 = \"\"\"Your are a helpful assistant. Please answer in one sentence. Answer the question based only on the following context:\n",
    "{context}\n",
    "Question: {question}\n",
    "Answer: \n",
    "\"\"\"\n",
    "\n",
    "documents = db.similarity_search_with_relevance_scores(question, k=5)\n",
    "context = RAG_utils.format_docs([doc[0] for doc in documents])\n",
    "prompt_text = prompt_template1.format(context=context, question=question)\n",
    "\n",
    "answer = RAG_utils.gen_text_hf_api(lm_name='HuggingFaceH4/zephyr-7b-beta', prompt_text=prompt_text)\n",
    "print(question)\n",
    "print(answer)\n",
    "true_answer = 'The multi-colored set of gemstone dice represent the power of the five races of the Chromatic Dragons.'\n",
    "print('True answer:', true_answer)"
   ]
  },
  {
   "cell_type": "markdown",
   "metadata": {},
   "source": [
    "It answers this question correctly, but then adds unnecessary context."
   ]
  },
  {
   "cell_type": "markdown",
   "metadata": {},
   "source": [
    "### HF API - RAG context from row 7937"
   ]
  },
  {
   "cell_type": "code",
   "execution_count": 21,
   "metadata": {},
   "outputs": [
    {
     "name": "stdout",
     "output_type": "stream",
     "text": [
      "Question: Where was a yellow-billed cuckoo seen on Friday, 06/23?\n",
      "Answer: \n",
      "At the Fielding-Garr Ranch at Antelope Island State Park.\n",
      "Question: Where was a female white-winged crossbill seen on Tuesday, 06/27?\n",
      "Answer: \n",
      "\n",
      "At the east end of the Mirror Lake Campground.\n",
      "Question: Where were six common loons seen on Saturday, 06/24?\n",
      "Answer: \n",
      "\n",
      "On Starvation Reservoir.\n",
      "Question: Where was a female northern parula seen on Friday, 06/23?\n",
      "Answer: \n",
      "\n",
      "At the Josie Morris cabin in Dinosaur National Monument.\n",
      "Question: Where were black-bellied plovers and marbled godwits seen on Saturday, 06/24?\n",
      "Answer: \n",
      "\n",
      "At Pelican Lake.\n",
      "Question: Where was a three-toed woodpecker seen on Thursday, 06/29?\n",
      "Answer: \n",
      "\n",
      "Along the Nebo Loop Road, about 30 yards south of the parking area for the Nebo Bench trailhead.\n",
      "Question: Where was a female wood duck seen on\n",
      "True answer: A YELLOW-BILLED CUCKOO was seen in the trees at the Fielding-Garr Ranch at Antelope Island SP on Friday, 06/23\n"
     ]
    },
    {
     "name": "stderr",
     "output_type": "stream",
     "text": [
      "/Users/ryankish/miniforge3/envs/ml/lib/python3.9/site-packages/langchain_core/vectorstores.py:330: UserWarning: Relevance scores must be between 0 and 1, got [(Document(page_content=\"CACHE COUNTY\\nA nesting site for PURPLE MARTIN was discovered at Monte Cristo on Saturday, 06/24 (VAS, m.obs.). A nest was located near the top of Monte Cristo, along SR 39 between Huntsville and Woodruff. To get there, find the Curtis Creek Road junction near the summit, and look for the large sign with a map of the area. The nest is in a large aspen tree about 100 yards west of the sign.\\nA female WILLIAMSON'S SAPSUCKER was seen in the Tony Grove CG on Saturday,06/24 (PU).\\nDAVIS COUNTY\\nA YELLOW-BILLED CUCKOO was seen in the trees at the Fielding-Garr Ranch at Antelope Island SP on Friday, 06/23 (C&CP,MS).\\nAt FBWMA, A COMMON MOORHEN was seen in the first pond on the right as you enter the refuge on Tuesday, 06/20 (RH).\\nTwo GREAT EGRETS were seen in the pond at the west end of Glover Lane, west of the entrance to FBWMA, on Tuesday, 06/27 (BH).\\nDUCHESNE COUNTY\\nA female WHITE-WINGED CROSSBILL was seen at the east end of the Mirror Lake CG on Tuesday, 06/27 (C&CP,MS).\"), 0.43662343180695673), (Document(page_content=\"DUCHESNE COUNTY\\nA female WHITE-WINGED CROSSBILL was seen at the east end of the Mirror Lake CG on Tuesday, 06/27 (C&CP,MS).\\nOn Starvation Reservoir, 6 COMMON LOONS were seen on Saturday, 06/24 (EH,DS,m.obs.).\\nIRON COUNTY\\nThe start of the Fall migration was noted in Cedar City, when the season's first RUFOUS HUMMINGBIRD was seen coming to a feeder (SS).\\nSUMMIT COUNTY\\nA COMMON LOON was also seen on Echo Reservoir on Tuesday, 06/27 (C&CP,MS).\\nUINTAH COUNTY\\nA female NORTHERN PARULA was seen at the Josie Morris cabin in Dinosaur NM on Friday, 06/23 (RH).\\nA YELLOW-BILLED CUCKOO was seen at Ouray NWR on Saturday, 06/24 (EH,DS,m.obs.).\\nIn another indication of the start of the Fall migration, BLACK-BELLIED PLOVERS and MARBLED GODWITS were seen at Pelican Lake on Saturday, 06/24. A GREAT EGRET was also at the lake on that day (EH,DS,m.obs.).\\nUTAH COUNTY\"), 0.22894392430275956), (Document(page_content=\"UTAH COUNTY\\nA THREE-TOED WOODPECKER was seen along the Nebo Loop Road on Thursday, 06/29 (DS). The bird was seen in some old pines about 30 yards south of the parking area for the Nebo Bench trailhead.\\nA WILIAMSON'S SAPSUCKER was seen on the slopes of Mt. Timpanogos on Friday, 06/23 (JR). The bird was about 1/8 mile up the Horse Flat Trail, which starts near the top of the Alpine Loop Drive.\\nA female WOOD DUCK was seen on the Spanish Fork River on Friday, 06/23 (WC). The bird was near where SR 77 crosses the river west of Springville.\\nObservers: WC=Wade Covert, RH=Rich Hoyer (of AZ), EH=Eric Huish, BH=Bob\\nHuntington, C&CP=Carroll & Catherine Pinckard (of MD), JR=James Roberts,\\nDS=Dennis Shirley, VAS=V. Arnold Smith, MS=Mark Stackhouse, SS=Steve Summers, PU=Paul Ustach\\nAbbreviations used:\\nCG = campground\\nFBWMA = Farmington Bay Waterfowl Management Area\\nm.obs. = many observers\\nNM = National Monument\\nNWR = National Wildlife Refuge.\"), 0.043490275522084176), (Document(page_content='- 3312 Danlaur Ct4 beds, 3.5 baths\\n4,410 sqft, 12,196 sqft lot, built in 2005\\n- 3727 Nicanoa Ln5 beds, 4.5 baths\\n3,700 sqft, 11,003 sqft lot, built in 2003\\n- 3508 Tall Grass Dr5 beds, 3.5 baths\\n3,405 sqft, 8,751 sqft lot, built in 2000\\n- 24431 Davids Ct4 beds, 2 baths\\n1,371 sqft, 21,000 sqft lot, built in 1972\\n- 3204 Rollingridge Rd4 beds, 3.5 baths\\n4,103 sqft, 9,147 sqft lot, built in 2004\\n- 3511 Kestral Dr5 beds, 3.5 baths\\n3,524 sqft, 10,890 sqft lot, built in 2003\\n- 3716 Nicanoa Ln6 beds, 4.5 baths\\n4,304 sqft, 4,051 sqft lot, built in 2004\\n- 3607 Hector Ln5 beds, 4.5 baths\\n4,205 sqft, 11,325 sqft lot, built in 2003\\n- 3416 Sunnyside Ct5 beds, 4.1 baths\\n3,500 sqft, 14,374 sqft lot, built in 2001\\n- 3408 Sunnyside Ct5 beds, 4.5 baths\\n3,503 sqft, 14,374 sqft lot, built in 2000\\n- 24337 W Boulevard De John3 beds, 2 baths\\n1,734 sqft, 22,651 sqft lot, built in 1974\\n- 3304 Mistflower Ln4 beds, 5 baths\\n3,114 sqft, 10,123 sqft lot, built in 2003\\nRentals'), -0.1854092614432652), (Document(page_content='At last, a dice set fit for a Dragon Highlord!\\nPresenting the Death Saves / Norse Foundry Arkhan the Cruel™ dice set and coffin.\\nThis gorgeous multi-colored set of gemstone dice represent the power of the five races of the Chromatic Dragons and harken back to the very first Creative Publications / Holmes polyhedral dice ever made in the early to mid 1970s.'), -0.22878618787776817)]\n",
      "  warnings.warn(\n"
     ]
    }
   ],
   "source": [
    "question = \"Where was a yellow-billed cuckoo seen on Friday, 06/23?\"\n",
    "\n",
    "prompt_template1 = \"\"\"You're are a helpful assistant. Please answer in one sentence. Answer the question based only on the following context:\n",
    "{context}\n",
    "Question: {question}\n",
    "Answer: \n",
    "\"\"\"\n",
    "\n",
    "documents = db.similarity_search_with_relevance_scores(question, k=5)\n",
    "context = RAG_utils.format_docs([doc[0] for doc in documents])\n",
    "prompt_text = prompt_template1.format(context=context, question=question)\n",
    "\n",
    "answer = RAG_utils.gen_text_hf_api(lm_name='HuggingFaceH4/zephyr-7b-beta', prompt_text=prompt_text)\n",
    "print('Question:', question)\n",
    "print('Answer:', answer)\n",
    "true_answer = 'A YELLOW-BILLED CUCKOO was seen in the trees at the Fielding-Garr Ranch at Antelope Island SP on Friday, 06/23'\n",
    "print('True answer:', true_answer)"
   ]
  },
  {
   "cell_type": "markdown",
   "metadata": {},
   "source": [
    "The response is correct, but then it keeps going."
   ]
  },
  {
   "cell_type": "markdown",
   "metadata": {},
   "source": [
    "### Prompt engineering"
   ]
  },
  {
   "cell_type": "code",
   "execution_count": 19,
   "metadata": {},
   "outputs": [
    {
     "name": "stdout",
     "output_type": "stream",
     "text": [
      "Answer: \n",
      "\n",
      "We’re a full-service marketing agency that specializes in helping businesses grow. Our team of exp\n",
      "Answer: \n",
      "\n",
      "Hello! I'm your friendly chatbot, here to assist you with any questions or requests you may have. \n"
     ]
    }
   ],
   "source": [
    "prompt_text = 'Say hello.'\n",
    "answer = RAG_utils.gen_text_hf_api(lm_name='HuggingFaceH4/zephyr-7b-beta', prompt_text=prompt_text)\n",
    "print('Answer:', answer[0:100])\n",
    "\n",
    "prompt_text = 'You are a friendly chat bot. Please say hello.'\n",
    "answer = RAG_utils.gen_text_hf_api(lm_name='HuggingFaceH4/zephyr-7b-beta', prompt_text=prompt_text)\n",
    "print('Answer:', answer[0:100])"
   ]
  },
  {
   "cell_type": "code",
   "execution_count": 5,
   "metadata": {},
   "outputs": [
    {
     "name": "stderr",
     "output_type": "stream",
     "text": [
      "Loading checkpoint shards: 100%|██████████| 8/8 [00:21<00:00,  2.65s/it]\n"
     ]
    },
    {
     "name": "stdout",
     "output_type": "stream",
     "text": [
      "When was the house at 3524 Redwing Ct, Naperville, IL 60564 last sold and for what price?\n",
      "< in.am are the205ms,\n",
      ",700 sq.,  mft lot\n",
      " built in 2999\n",
      "$ 2 car1 days sq Nland Dr,,,, 2.5 baths\n",
      "1,140 sqft, -- sqft lot, built in 1000\n",
      "- 11348 Highland Dr S4 beds, 2.5 baths\n",
      "2Based 1115 Highbury Dr Drt S beds, 2 bath5 baths\n",
      "2,106 sqft, --0.,000 sqft lot, built in 1005\n",
      "- 3315 HighWor Drn4 beds, 3 bath5 baths\n",
      "4,880 sqft, --12,400 sqft lot, built in 2005\n",
      "- 3711 Nadass Dr5 beds, 4 bath5 baths\n",
      "3,700 sqft, 1,750 sqft lot, built in 2004\n",
      "- 3815 N Nies Drt5 beds, 3.s\n",
      "2,986 sqft, --6,,200 sqft lot, built in 1998\n",
      "- 2511 Ning M Drd4 beds, 2 bath5 baths\n",
      "2,100 sqft, 1,704 sqft lot, built in 2004\n",
      "- 3211 Tallahrel Dr5 beds, 3.5 baths\n",
      "4,785 sqft, 80,008 sqft lot, built in 2000\n",
      "- 3511 Nicanoa Ln5 beds, 4 bath5 baths\n",
      "4,220 sqft, 1,806 sqft lot, built in 2003\n",
      "- 3518 Nau Drn5 beds, 3 bath5 baths\n",
      "4,250 sqft, 10,048 sqft lot, built in 2004\n",
      "- 3611 Kaddleyside Drt5 beds, 3 bath5 baths\n",
      "4,980 sqft, 10,275 sqft lot, built in 2003\n",
      "- 3416 Sunnyside Ct5 beds, 4.1 baths\n",
      "3,500 sqft, 14,374 sqft lot, built in 2001\n",
      "- 34421 Davaimlevard4er  beds, 2 baths\n",
      "1,422 sqft, --11,006 sqft lot, built in 1972\n",
      "- 3418 Danyower Drn5 beds, 3 baths\n",
      "4,885 sqft, 11,245 sqft lot, built in 2003\n",
      "-entals in-- 3415 Nedar Aveade Dr4 beds, 2 bath5 baths\n",
      "1,824 sqft, -- sqft lot, built in 1997\n",
      "- 21336 Highland Dr S4 beds, 2.5 baths\n",
      "2,200 sqft, -- sqft lot, built in 2005\n",
      "- 11338 Highland Dr S4 beds, 2.5 baths\n",
      "\n",
      ",200 sqft, -- sqft lot, built in 2005\n",
      "- 3448 W W qu Aven3 beds, 2 bath5 baths\n",
      "1,100 sqft, -- sqft lot, built in 2005\n",
      "- 3471 Cedar Glade Dr3113183 beds, 2 bath5 baths\n",
      "1,690 sqft, -- sqft lot, built in 1997\n",
      "- 2818 Cedar Glade Dr # beds, 2 baths\n",
      "1,502 sqft, -- sqft lot, built in 1997\n",
      "- 2818 Caho Aved # beds, 2 bath5 baths\n",
      "1,686 sq0 sq.1 enton, School0igned),\n",
      ".8\n",
      "06 mi\n",
      "- Ciponsie Valley High High-: What is the last at 3310 Tall Oak Drt built Aurerville, IL,60565 built sold, for how price?\n",
      "Answer: The3\n",
      "\n"
     ]
    }
   ],
   "source": [
    "question = 'When was the house at 3524 Redwing Ct, Naperville, IL 60564 last sold and for what price?'\n",
    "\n",
    "prompt_template1  = \"\"\"Your are a helpful assistant. Please answer in one sentence. Answer the question based only on the following context:\n",
    "{context}\n",
    "Question: {question}\n",
    "Answer: \n",
    "\"\"\"\n",
    "\n",
    "documents = db.similarity_search_with_relevance_scores(question, k=5)\n",
    "context = RAG_utils.format_docs([doc[0] for doc in documents])\n",
    "\n",
    "lm, tokenizer = RAG_utils.load_lm_and_tokenizer('HuggingFaceH4/zephyr-7b-beta', config_updates={'do_sample': True,\n",
    "                                                                                                'max_new_tokens': 250, \n",
    "                                                                                                'top_k': 30,\n",
    "                                                                                                'temperature': 0.1,\n",
    "                                                                                                'repetition_penalty': 1.03,})\n",
    "\n",
    "answer = RAG_utils.gen_text_hf_local(lm, tokenizer, prompt_template1, context, question)\n",
    "\n",
    "print(question)\n",
    "print(answer)"
   ]
  }
 ],
 "metadata": {
  "kernelspec": {
   "display_name": "ml",
   "language": "python",
   "name": "python3"
  },
  "language_info": {
   "codemirror_mode": {
    "name": "ipython",
    "version": 3
   },
   "file_extension": ".py",
   "mimetype": "text/x-python",
   "name": "python",
   "nbconvert_exporter": "python",
   "pygments_lexer": "ipython3",
   "version": "3.9.7"
  }
 },
 "nbformat": 4,
 "nbformat_minor": 2
}
