{
 "cells": [
  {
   "cell_type": "code",
   "execution_count": 35,
   "metadata": {},
   "outputs": [],
   "source": [
    "import pandas as pd\n",
    "import numpy as np\n",
    "import matplotlib.pyplot as plt\n",
    "import seaborn as sns\n",
    "import ast\n",
    "from IPython.display import display, HTML"
   ]
  },
  {
   "cell_type": "code",
   "execution_count": 66,
   "metadata": {},
   "outputs": [],
   "source": [
    "def view_row(row, data):\n",
    "    row_data = data[data['qa_index'] == row]\n",
    "    display(row_data[['context_relevancy','context_precision','context_precision','answer_correctness','answer_relevancy','answer_similarity']])\n",
    "    row_data = row_data.squeeze()\n",
    "    question = f\"<p style='color: orange;'>question: {row_data['question']}</p>\"\n",
    "    ground_truth = f\"<p style='color: green;'>ground_truth: {row_data['ground_truth']}</p>\"\n",
    "    answer = f\"<p style='color: yellow;'>answer: {row_data['answer']}</p>\"\n",
    "\n",
    "    display(HTML(question))\n",
    "    display(HTML(ground_truth))\n",
    "    display(HTML(answer))\n",
    "    \n",
    "    #contexts = ast.literal_eval(row_data['contexts'])\n",
    "    contexts = row_data['contexts']\n",
    "    print(contexts)\n",
    "    # print(len(contexts))\n",
    "    # for i, context in enumerate(contexts):\n",
    "    #     print('=' * 10, f'context {i}', '='*10)\n",
    "    #     print(context)\n",
    "    #     print(context)"
   ]
  },
  {
   "cell_type": "code",
   "execution_count": 67,
   "metadata": {},
   "outputs": [],
   "source": [
    "data = pd.read_csv('evals/eval_results_Train_100.csv')"
   ]
  },
  {
   "cell_type": "code",
   "execution_count": 17,
   "metadata": {},
   "outputs": [
    {
     "data": {
      "text/html": [
       "<div>\n",
       "<style scoped>\n",
       "    .dataframe tbody tr th:only-of-type {\n",
       "        vertical-align: middle;\n",
       "    }\n",
       "\n",
       "    .dataframe tbody tr th {\n",
       "        vertical-align: top;\n",
       "    }\n",
       "\n",
       "    .dataframe thead th {\n",
       "        text-align: right;\n",
       "    }\n",
       "</style>\n",
       "<table border=\"1\" class=\"dataframe\">\n",
       "  <thead>\n",
       "    <tr style=\"text-align: right;\">\n",
       "      <th></th>\n",
       "      <th>qa_index</th>\n",
       "      <th>chunk_size</th>\n",
       "      <th>chunk_overlap</th>\n",
       "      <th>k</th>\n",
       "      <th>context_relevancy</th>\n",
       "      <th>context_precision</th>\n",
       "      <th>answer_correctness</th>\n",
       "      <th>answer_relevancy</th>\n",
       "      <th>answer_similarity</th>\n",
       "    </tr>\n",
       "  </thead>\n",
       "  <tbody>\n",
       "    <tr>\n",
       "      <th>count</th>\n",
       "      <td>100.000000</td>\n",
       "      <td>100.0</td>\n",
       "      <td>100.0</td>\n",
       "      <td>100.0</td>\n",
       "      <td>100.000000</td>\n",
       "      <td>100.000000</td>\n",
       "      <td>94.000000</td>\n",
       "      <td>99.000000</td>\n",
       "      <td>100.000000</td>\n",
       "    </tr>\n",
       "    <tr>\n",
       "      <th>mean</th>\n",
       "      <td>49.500000</td>\n",
       "      <td>1000.0</td>\n",
       "      <td>200.0</td>\n",
       "      <td>5.0</td>\n",
       "      <td>0.091273</td>\n",
       "      <td>0.676722</td>\n",
       "      <td>0.514871</td>\n",
       "      <td>0.775128</td>\n",
       "      <td>0.565243</td>\n",
       "    </tr>\n",
       "    <tr>\n",
       "      <th>std</th>\n",
       "      <td>29.011492</td>\n",
       "      <td>0.0</td>\n",
       "      <td>0.0</td>\n",
       "      <td>0.0</td>\n",
       "      <td>0.050639</td>\n",
       "      <td>0.412278</td>\n",
       "      <td>0.314755</td>\n",
       "      <td>0.201442</td>\n",
       "      <td>0.465444</td>\n",
       "    </tr>\n",
       "    <tr>\n",
       "      <th>min</th>\n",
       "      <td>0.000000</td>\n",
       "      <td>1000.0</td>\n",
       "      <td>200.0</td>\n",
       "      <td>5.0</td>\n",
       "      <td>0.000000</td>\n",
       "      <td>0.000000</td>\n",
       "      <td>-0.008504</td>\n",
       "      <td>0.000000</td>\n",
       "      <td>-0.034017</td>\n",
       "    </tr>\n",
       "    <tr>\n",
       "      <th>25%</th>\n",
       "      <td>24.750000</td>\n",
       "      <td>1000.0</td>\n",
       "      <td>200.0</td>\n",
       "      <td>5.0</td>\n",
       "      <td>0.055556</td>\n",
       "      <td>0.312500</td>\n",
       "      <td>0.278654</td>\n",
       "      <td>0.750831</td>\n",
       "      <td>0.018719</td>\n",
       "    </tr>\n",
       "    <tr>\n",
       "      <th>50%</th>\n",
       "      <td>49.500000</td>\n",
       "      <td>1000.0</td>\n",
       "      <td>200.0</td>\n",
       "      <td>5.0</td>\n",
       "      <td>0.082207</td>\n",
       "      <td>0.933333</td>\n",
       "      <td>0.466406</td>\n",
       "      <td>0.823511</td>\n",
       "      <td>0.838299</td>\n",
       "    </tr>\n",
       "    <tr>\n",
       "      <th>75%</th>\n",
       "      <td>74.250000</td>\n",
       "      <td>1000.0</td>\n",
       "      <td>200.0</td>\n",
       "      <td>5.0</td>\n",
       "      <td>0.105263</td>\n",
       "      <td>1.000000</td>\n",
       "      <td>0.749769</td>\n",
       "      <td>0.892633</td>\n",
       "      <td>0.998995</td>\n",
       "    </tr>\n",
       "    <tr>\n",
       "      <th>max</th>\n",
       "      <td>99.000000</td>\n",
       "      <td>1000.0</td>\n",
       "      <td>200.0</td>\n",
       "      <td>5.0</td>\n",
       "      <td>0.318182</td>\n",
       "      <td>1.000000</td>\n",
       "      <td>1.000000</td>\n",
       "      <td>0.952243</td>\n",
       "      <td>1.000000</td>\n",
       "    </tr>\n",
       "  </tbody>\n",
       "</table>\n",
       "</div>"
      ],
      "text/plain": [
       "         qa_index  chunk_size  chunk_overlap      k  context_relevancy  \\\n",
       "count  100.000000       100.0          100.0  100.0         100.000000   \n",
       "mean    49.500000      1000.0          200.0    5.0           0.091273   \n",
       "std     29.011492         0.0            0.0    0.0           0.050639   \n",
       "min      0.000000      1000.0          200.0    5.0           0.000000   \n",
       "25%     24.750000      1000.0          200.0    5.0           0.055556   \n",
       "50%     49.500000      1000.0          200.0    5.0           0.082207   \n",
       "75%     74.250000      1000.0          200.0    5.0           0.105263   \n",
       "max     99.000000      1000.0          200.0    5.0           0.318182   \n",
       "\n",
       "       context_precision  answer_correctness  answer_relevancy  \\\n",
       "count         100.000000           94.000000         99.000000   \n",
       "mean            0.676722            0.514871          0.775128   \n",
       "std             0.412278            0.314755          0.201442   \n",
       "min             0.000000           -0.008504          0.000000   \n",
       "25%             0.312500            0.278654          0.750831   \n",
       "50%             0.933333            0.466406          0.823511   \n",
       "75%             1.000000            0.749769          0.892633   \n",
       "max             1.000000            1.000000          0.952243   \n",
       "\n",
       "       answer_similarity  \n",
       "count         100.000000  \n",
       "mean            0.565243  \n",
       "std             0.465444  \n",
       "min            -0.034017  \n",
       "25%             0.018719  \n",
       "50%             0.838299  \n",
       "75%             0.998995  \n",
       "max             1.000000  "
      ]
     },
     "execution_count": 17,
     "metadata": {},
     "output_type": "execute_result"
    }
   ],
   "source": [
    "data.describe()"
   ]
  },
  {
   "cell_type": "markdown",
   "metadata": {},
   "source": [
    "## High answer metrics, low context metrics"
   ]
  },
  {
   "cell_type": "code",
   "execution_count": 28,
   "metadata": {},
   "outputs": [
    {
     "data": {
      "text/html": [
       "<div>\n",
       "<style scoped>\n",
       "    .dataframe tbody tr th:only-of-type {\n",
       "        vertical-align: middle;\n",
       "    }\n",
       "\n",
       "    .dataframe tbody tr th {\n",
       "        vertical-align: top;\n",
       "    }\n",
       "\n",
       "    .dataframe thead th {\n",
       "        text-align: right;\n",
       "    }\n",
       "</style>\n",
       "<table border=\"1\" class=\"dataframe\">\n",
       "  <thead>\n",
       "    <tr style=\"text-align: right;\">\n",
       "      <th></th>\n",
       "      <th>question</th>\n",
       "      <th>context_relevancy</th>\n",
       "      <th>context_precision</th>\n",
       "    </tr>\n",
       "  </thead>\n",
       "  <tbody>\n",
       "    <tr>\n",
       "      <th>25</th>\n",
       "      <td>Who is the designer of this year's Southern Li...</td>\n",
       "      <td>0.020833</td>\n",
       "      <td>1.000000</td>\n",
       "    </tr>\n",
       "    <tr>\n",
       "      <th>88</th>\n",
       "      <td>Who is the executive producer of the Angel &amp; F...</td>\n",
       "      <td>0.030928</td>\n",
       "      <td>1.000000</td>\n",
       "    </tr>\n",
       "    <tr>\n",
       "      <th>15</th>\n",
       "      <td>Who is the author of the book Kapow!?</td>\n",
       "      <td>0.045977</td>\n",
       "      <td>1.000000</td>\n",
       "    </tr>\n",
       "    <tr>\n",
       "      <th>26</th>\n",
       "      <td>When was the new village hall opened after a 1...</td>\n",
       "      <td>0.047619</td>\n",
       "      <td>0.833333</td>\n",
       "    </tr>\n",
       "  </tbody>\n",
       "</table>\n",
       "</div>"
      ],
      "text/plain": [
       "                                             question  context_relevancy  \\\n",
       "25  Who is the designer of this year's Southern Li...           0.020833   \n",
       "88  Who is the executive producer of the Angel & F...           0.030928   \n",
       "15              Who is the author of the book Kapow!?           0.045977   \n",
       "26  When was the new village hall opened after a 1...           0.047619   \n",
       "\n",
       "    context_precision  \n",
       "25           1.000000  \n",
       "88           1.000000  \n",
       "15           1.000000  \n",
       "26           0.833333  "
      ]
     },
     "execution_count": 28,
     "metadata": {},
     "output_type": "execute_result"
    }
   ],
   "source": [
    "data[(data['answer_correctness']>0.85) & (data['answer_correctness']>0.85)][['question','context_relevancy','context_precision']].sort_values(by='context_relevancy',ascending=True).head(4)"
   ]
  },
  {
   "cell_type": "markdown",
   "metadata": {},
   "source": [
    "--> take some metrics with a grain of salt, especially context_relevancy, because LLM can still find information."
   ]
  },
  {
   "cell_type": "code",
   "execution_count": 68,
   "metadata": {},
   "outputs": [
    {
     "data": {
      "text/html": [
       "<div>\n",
       "<style scoped>\n",
       "    .dataframe tbody tr th:only-of-type {\n",
       "        vertical-align: middle;\n",
       "    }\n",
       "\n",
       "    .dataframe tbody tr th {\n",
       "        vertical-align: top;\n",
       "    }\n",
       "\n",
       "    .dataframe thead th {\n",
       "        text-align: right;\n",
       "    }\n",
       "</style>\n",
       "<table border=\"1\" class=\"dataframe\">\n",
       "  <thead>\n",
       "    <tr style=\"text-align: right;\">\n",
       "      <th></th>\n",
       "      <th>context_relevancy</th>\n",
       "      <th>context_precision</th>\n",
       "      <th>context_precision</th>\n",
       "      <th>answer_correctness</th>\n",
       "      <th>answer_relevancy</th>\n",
       "      <th>answer_similarity</th>\n",
       "    </tr>\n",
       "  </thead>\n",
       "  <tbody>\n",
       "    <tr>\n",
       "      <th>88</th>\n",
       "      <td>0.030928</td>\n",
       "      <td>1.0</td>\n",
       "      <td>1.0</td>\n",
       "      <td>1.0</td>\n",
       "      <td>0.88773</td>\n",
       "      <td>1.0</td>\n",
       "    </tr>\n",
       "  </tbody>\n",
       "</table>\n",
       "</div>"
      ],
      "text/plain": [
       "    context_relevancy  context_precision  context_precision  \\\n",
       "88           0.030928                1.0                1.0   \n",
       "\n",
       "    answer_correctness  answer_relevancy  answer_similarity  \n",
       "88                 1.0           0.88773                1.0  "
      ]
     },
     "metadata": {},
     "output_type": "display_data"
    },
    {
     "data": {
      "text/html": [
       "<p style='color: orange;'>question: Who is the executive producer of the Angel & Faith Season Ten comic book series?</p>"
      ],
      "text/plain": [
       "<IPython.core.display.HTML object>"
      ]
     },
     "metadata": {},
     "output_type": "display_data"
    },
    {
     "data": {
      "text/html": [
       "<p style='color: green;'>ground_truth: Joss Whedon is the executive producer of the Angel & Faith Season Ten comic book series.</p>"
      ],
      "text/plain": [
       "<IPython.core.display.HTML object>"
      ]
     },
     "metadata": {},
     "output_type": "display_data"
    },
    {
     "data": {
      "text/html": [
       "<p style='color: yellow;'>answer: Joss Whedon is the executive producer of the Angel & Faith Season Ten comic book series.</p>"
      ],
      "text/plain": [
       "<IPython.core.display.HTML object>"
      ]
     },
     "metadata": {},
     "output_type": "display_data"
    },
    {
     "name": "stdout",
     "output_type": "stream",
     "text": [
      "['Lost and Found, Part Four is the ninth issue of the Angel & Faith Season Ten comic book series. Joss Whedon is the executive producer.\\nSynopsis\\nClearly in a magical mire with Amy the Rat, Angel brings in backup to shut down the witch and save Magic Town . . . Faith is reunited with Riley in a brawl with the tribal vampires—staking, dusting, and feeling awkward!\\nContinuity\\n- Angel mentions the consequences of resurrecting Giles in \"What You Want, Not What You Need, Part One\".\\n- Riley mentions the episode \"Who Are You\", where Faith took over Buffy\\'s body.\\nAppearances\\nIndividuals\\n- Angel\\n- Faith Lehane\\n- Amy Madison\\n- Riley Finn\\n- Samantha Finn\\n- Reese Zane\\n- Mai\\n- Perry\\n- Brandt\\n- Walt Zane\\n- Buffy Summers (Only mentioned)\\n- Corky (Only mentioned)\\n- Nadira (Only mentioned)\\n- Rupert Giles (Only mentioned)\\n- Warren Mears (Only mentioned)\\n- Willow Rosenberg (Only mentioned)\\nOrganization and Titles\\nSpecies\\nEvents\\nLocations\\n- Magic Town, London\\n- Suriname, South America\\nWeapons and Objects'\n",
      " 'Series:\\nWeWork: Or the Making and Breaking of a $47 Billion Dollar Unicorn: Documentary Premiere\\nLaw & Order: Organized Crime: Series Premiere\\nManifest: Season 3 Premiere\\nThe Moodys: Season 2 Finale\\nReal Housewives of New York City: Complete Season 12\\nApril 3rd\\nSeries:\\nHysterical: Series Premiere\\nMovies:\\nBlair Witch (2016)\\nMovies:\\nGirl (2020)\\nSeries:\\nOur Last Crusade or the Rise of a New World: Season 1, Epsiodes 1-12 (dubbed)\\nApril 8th\\nSeries:\\nHome Economics: Series Premiere\\nApril 9th\\nSeries:\\nEverything’s Gonna Be Okay: Season 2 Premiere\\nRebel: Series Premiere\\nMovies:\\nThe Standard (2020)\\nStars Fell on Alabama (2021)\\nApril 10th\\nSeries:\\nThe Day I Became a God: Season 1, Epsiodes 1-12 (dubbed)\\nMovies:\\nDesierto (2015)\\nKnuckledust (2020)\\nApril 12th\\nMovies:\\nParanormal Activity 4 (2012)\\nSpontaneous (2020)\\nApril 15th\\nSeries:\\nYounger: Season 7 Premiere\\nReal Housewives of Beverly Hills: Complete Season 10\\nApril 16th\\nMovies:\\nFly Like A Girl (2020)\\nSongbird (2020)\\nApril 17th\\nMovies:'\n",
      " 'Jeremy Carver writer and producer, spoke a bit more enthusiastically about the show and its direction for season eleven and promised that we would see progress within the sibling relationship that works toward resolving long standing issues. Sounds promising, let’s see if they can deliver. Mr. Carver also spoke of an episode revolving around Sam and his imaginary childhood friend. We shall see if it delivers. Much of the lore presented in Supernatural runs true to historical recounting however I am deeply disappointed in the blurring of Angelic/Demonic personae.'\n",
      " '.\\n“The characters, artists and storytellers that make up Cartoon Network Studios and Warner Bros. Animation are some of the strongest in the industry,” said Sam Register, President of Warner Bros. Animation and Cartoon Network Studios. “While each studio continues in the footsteps of their own proud legacy, they unite with a shared passion to create programming that will draw in audiences of all ages and be the engine that drives WarnerMedia to the top of the kids and family space.”\\nNew series greenlights to reach all kids and families include:\\nBen 10 specials – Produced by Man of Action (Big Hero 6, Generator Rex), three 44-minute specials based on the hit Cartoon Network series Ben 10 are set to premiere in April 2021. The first, Ben 10,010, Armor –. The series is created by Diego Molano and produced by Cartoon Network Studios.\\nNew projects in development for kids and families include:off.\\n--\\nAbout Cartoon Network'\n",
      " 'Jensen Ackles discussed his part not only as an actor but as a director for some episodes of the show. I have always enjoyed watching episodes directed by those who act in any series because I believe it brings the fan more in line with the characters mostly because it is not just Jansen directing it is Dean crafting the shots as well. Keep up the superlative work sir! Jensen answered questions about demon Dean and his revamping of character to incorporate his relationships with characters who only knew him as Dean.']\n"
     ]
    }
   ],
   "source": [
    "view_row(88, data)"
   ]
  },
  {
   "cell_type": "code",
   "execution_count": null,
   "metadata": {},
   "outputs": [],
   "source": [
    "# data[(data['context_relevancy'] > 0.75) & (data['context_relevancy'] < 0.75)][['answer']]"
   ]
  },
  {
   "cell_type": "markdown",
   "metadata": {},
   "source": [
    "## Low answer metrics"
   ]
  },
  {
   "cell_type": "code",
   "execution_count": 75,
   "metadata": {},
   "outputs": [
    {
     "data": {
      "text/html": [
       "<div>\n",
       "<style scoped>\n",
       "    .dataframe tbody tr th:only-of-type {\n",
       "        vertical-align: middle;\n",
       "    }\n",
       "\n",
       "    .dataframe tbody tr th {\n",
       "        vertical-align: top;\n",
       "    }\n",
       "\n",
       "    .dataframe thead th {\n",
       "        text-align: right;\n",
       "    }\n",
       "</style>\n",
       "<table border=\"1\" class=\"dataframe\">\n",
       "  <thead>\n",
       "    <tr style=\"text-align: right;\">\n",
       "      <th></th>\n",
       "      <th>question</th>\n",
       "      <th>context_relevancy</th>\n",
       "      <th>context_precision</th>\n",
       "      <th>answer_relevancy</th>\n",
       "      <th>answer_similarity</th>\n",
       "      <th>answer_correctness</th>\n",
       "    </tr>\n",
       "  </thead>\n",
       "  <tbody>\n",
       "    <tr>\n",
       "      <th>54</th>\n",
       "      <td>What was the purpose of the study conducted by...</td>\n",
       "      <td>0.083333</td>\n",
       "      <td>0.2</td>\n",
       "      <td>0.000000</td>\n",
       "      <td>-0.034017</td>\n",
       "      <td>-0.008504</td>\n",
       "    </tr>\n",
       "    <tr>\n",
       "      <th>61</th>\n",
       "      <td>Who claimed responsibility for the killing of ...</td>\n",
       "      <td>0.096774</td>\n",
       "      <td>0.2</td>\n",
       "      <td>0.806481</td>\n",
       "      <td>-0.033880</td>\n",
       "      <td>-0.008470</td>\n",
       "    </tr>\n",
       "    <tr>\n",
       "      <th>48</th>\n",
       "      <td>What are some of the recommended dishes at the...</td>\n",
       "      <td>0.034483</td>\n",
       "      <td>0.0</td>\n",
       "      <td>NaN</td>\n",
       "      <td>-0.023363</td>\n",
       "      <td>-0.005841</td>\n",
       "    </tr>\n",
       "    <tr>\n",
       "      <th>70</th>\n",
       "      <td>What is the main concern of the individual in ...</td>\n",
       "      <td>0.088889</td>\n",
       "      <td>0.0</td>\n",
       "      <td>0.823511</td>\n",
       "      <td>-0.021530</td>\n",
       "      <td>-0.005383</td>\n",
       "    </tr>\n",
       "    <tr>\n",
       "      <th>67</th>\n",
       "      <td>What was the first job Edwin Koo landed in his...</td>\n",
       "      <td>0.038462</td>\n",
       "      <td>0.0</td>\n",
       "      <td>0.000000</td>\n",
       "      <td>-0.019306</td>\n",
       "      <td>-0.004826</td>\n",
       "    </tr>\n",
       "    <tr>\n",
       "      <th>56</th>\n",
       "      <td>What does the name Madigan mean in Irish?</td>\n",
       "      <td>0.105263</td>\n",
       "      <td>0.0</td>\n",
       "      <td>0.641145</td>\n",
       "      <td>0.003677</td>\n",
       "      <td>0.000919</td>\n",
       "    </tr>\n",
       "    <tr>\n",
       "      <th>11</th>\n",
       "      <td>What does the word 'quantum' mean as per the c...</td>\n",
       "      <td>0.068966</td>\n",
       "      <td>0.0</td>\n",
       "      <td>0.762074</td>\n",
       "      <td>0.015061</td>\n",
       "      <td>0.003765</td>\n",
       "    </tr>\n",
       "    <tr>\n",
       "      <th>64</th>\n",
       "      <td>How did the person hang the background paper i...</td>\n",
       "      <td>0.053571</td>\n",
       "      <td>1.0</td>\n",
       "      <td>0.654914</td>\n",
       "      <td>0.022052</td>\n",
       "      <td>0.005513</td>\n",
       "    </tr>\n",
       "    <tr>\n",
       "      <th>89</th>\n",
       "      <td>What strategy did General Electric use to conn...</td>\n",
       "      <td>0.055556</td>\n",
       "      <td>0.0</td>\n",
       "      <td>0.000000</td>\n",
       "      <td>0.256288</td>\n",
       "      <td>0.064072</td>\n",
       "    </tr>\n",
       "    <tr>\n",
       "      <th>29</th>\n",
       "      <td>What is the main conflict in the third book of...</td>\n",
       "      <td>0.081081</td>\n",
       "      <td>0.0</td>\n",
       "      <td>0.000000</td>\n",
       "      <td>0.364442</td>\n",
       "      <td>0.091111</td>\n",
       "    </tr>\n",
       "  </tbody>\n",
       "</table>\n",
       "</div>"
      ],
      "text/plain": [
       "                                             question  context_relevancy  \\\n",
       "54  What was the purpose of the study conducted by...           0.083333   \n",
       "61  Who claimed responsibility for the killing of ...           0.096774   \n",
       "48  What are some of the recommended dishes at the...           0.034483   \n",
       "70  What is the main concern of the individual in ...           0.088889   \n",
       "67  What was the first job Edwin Koo landed in his...           0.038462   \n",
       "56          What does the name Madigan mean in Irish?           0.105263   \n",
       "11  What does the word 'quantum' mean as per the c...           0.068966   \n",
       "64  How did the person hang the background paper i...           0.053571   \n",
       "89  What strategy did General Electric use to conn...           0.055556   \n",
       "29  What is the main conflict in the third book of...           0.081081   \n",
       "\n",
       "    context_precision  answer_relevancy  answer_similarity  answer_correctness  \n",
       "54                0.2          0.000000          -0.034017           -0.008504  \n",
       "61                0.2          0.806481          -0.033880           -0.008470  \n",
       "48                0.0               NaN          -0.023363           -0.005841  \n",
       "70                0.0          0.823511          -0.021530           -0.005383  \n",
       "67                0.0          0.000000          -0.019306           -0.004826  \n",
       "56                0.0          0.641145           0.003677            0.000919  \n",
       "11                0.0          0.762074           0.015061            0.003765  \n",
       "64                1.0          0.654914           0.022052            0.005513  \n",
       "89                0.0          0.000000           0.256288            0.064072  \n",
       "29                0.0          0.000000           0.364442            0.091111  "
      ]
     },
     "execution_count": 75,
     "metadata": {},
     "output_type": "execute_result"
    }
   ],
   "source": [
    "data[['question','context_relevancy','context_precision','answer_relevancy','answer_similarity','answer_correctness']].sort_values(by='answer_correctness',ascending=True).head(10)"
   ]
  },
  {
   "cell_type": "code",
   "execution_count": 49,
   "metadata": {},
   "outputs": [],
   "source": [
    "# view_row(8, data) # not a good question"
   ]
  },
  {
   "cell_type": "code",
   "execution_count": 70,
   "metadata": {},
   "outputs": [
    {
     "data": {
      "text/html": [
       "<div>\n",
       "<style scoped>\n",
       "    .dataframe tbody tr th:only-of-type {\n",
       "        vertical-align: middle;\n",
       "    }\n",
       "\n",
       "    .dataframe tbody tr th {\n",
       "        vertical-align: top;\n",
       "    }\n",
       "\n",
       "    .dataframe thead th {\n",
       "        text-align: right;\n",
       "    }\n",
       "</style>\n",
       "<table border=\"1\" class=\"dataframe\">\n",
       "  <thead>\n",
       "    <tr style=\"text-align: right;\">\n",
       "      <th></th>\n",
       "      <th>context_relevancy</th>\n",
       "      <th>context_precision</th>\n",
       "      <th>context_precision</th>\n",
       "      <th>answer_correctness</th>\n",
       "      <th>answer_relevancy</th>\n",
       "      <th>answer_similarity</th>\n",
       "    </tr>\n",
       "  </thead>\n",
       "  <tbody>\n",
       "    <tr>\n",
       "      <th>16</th>\n",
       "      <td>0.015385</td>\n",
       "      <td>0.0</td>\n",
       "      <td>0.0</td>\n",
       "      <td>0.159558</td>\n",
       "      <td>0.687643</td>\n",
       "      <td>0.638234</td>\n",
       "    </tr>\n",
       "  </tbody>\n",
       "</table>\n",
       "</div>"
      ],
      "text/plain": [
       "    context_relevancy  context_precision  context_precision  \\\n",
       "16           0.015385                0.0                0.0   \n",
       "\n",
       "    answer_correctness  answer_relevancy  answer_similarity  \n",
       "16            0.159558          0.687643           0.638234  "
      ]
     },
     "metadata": {},
     "output_type": "display_data"
    },
    {
     "data": {
      "text/html": [
       "<p style='color: orange;'>question: What are some of the names Morganite is also known as?</p>"
      ],
      "text/plain": [
       "<IPython.core.display.HTML object>"
      ]
     },
     "metadata": {},
     "output_type": "display_data"
    },
    {
     "data": {
      "text/html": [
       "<p style='color: green;'>ground_truth: Morganite is also known as 'pink emerald' and 'rose beryl'.</p>"
      ],
      "text/plain": [
       "<IPython.core.display.HTML object>"
      ]
     },
     "metadata": {},
     "output_type": "display_data"
    },
    {
     "data": {
      "text/html": [
       "<p style='color: yellow;'>answer: There is no mention of Morganite in the provided context. The text only talks about family names, their origins, and meanings, but does not mention Morganite or any other mineral or gemstone.</p>"
      ],
      "text/plain": [
       "<IPython.core.display.HTML object>"
      ]
     },
     "metadata": {},
     "output_type": "display_data"
    },
    {
     "name": "stdout",
     "output_type": "stream",
     "text": [
      "['Baker the Miller. This good idea soon became Tom/and Bill Miller and second names came into style.\\nThe second name was applied to the whole family and Tom Bakers wife and children were also Bakers. The family name was handed on, and Tom Baker’s son kept the name Baker, even if he became a Vut olvar or a carpenter.\\nIn Ireland and Scotland, the second name was often taken from the father’s first name, O‘Brian means son of Brian and MacDonald means son of Donald. Some families were named for places. The Hills and Wells, the Lakes and Woods originally may have been named for the places where they lived. Some families took their names from inns and taverns. Old inns were often named for animals, famous persons or outstanding objects. The family names Lamb and Lyon, Wolf and Swann, King and Queen may date back to ancestors who named themselves after their favorite inns.'\n",
      " 'edit* my ancestors were from Clan Ross\\nFamily lore is that we were MacDonalds in Scotland, but chased out. Many family members moved to York and took the name Sturdy.'\n",
      " 'Bransom Meaning & Etymology\\nNo one has submitted information on Bransom meaning and etymology. Add to this section\\nBransom Life Expectancy\\nAccording to our database of 212 people with the last name Bransom that have a birth and death date listed:\\nLife Expectancy\\nBransom Family Tree\\nFind Bransom records\\nFind birth, death, marriage, military, and other Bransom records at Ancestry.com.Search for Bransom records\\nFamous People named BransomNo has submitted any famous Bransoms yet. Click here to add your own.\\nMost Common Bransom First Names\\nAccording to our database of 428 people with the last name Bransom that have a first name listed, these are the most common first names:\\n- Charles 3.0%\\n- John 2.3%\\n- Mary 2.1%\\n- Robert 2.1%\\n- James 1.9%\\n- William 1.6%\\n- Patricia 1.2%\\n- Joy 1.2%\\n- Marvin 1.2%\\n- David 1.2%\\n- George 1.2%\\n- Deborah 0.9%\\n- Louetta 0.9%\\n- Paul 0.9%\\n- Shelley 0.9%\\n- Randy 0.9%\\n- Jimmy 0.7%\\n- T 0.7%\\n- Henry 0.7%\\n- Willie 0.7%\\n- Betty 0.7%\\n- Eddy 0.7%\\n- Heather 0.7%'\n",
      " 'Nowadays it is odd to find a man named Tailor who makes suits or a man named Baker who runs a bakery. But when second names were first invented, most of them made sense. However, they have long since lost their meanings and in some cases it is almost impossible to trace back the original meanings of our family names.\\nWe have 171 guests and no members online'\n",
      " 'At one time, first and second names had sensible meanings. Thomas meant a twin, Alice meant truth, William meant strong minded and most likely our remote ancestors had to earn their names. But nowadays parents tend to name their children. for older relatives. An only child might be named Thomas after an uncle who was a twin and young William might be a sissy.\\nThe original meanings of first names were forgotten long before second names were invented. At first second names also made sense, but they also soon lost their meanings, In England, second names came into style about 900 years ago. William the Conquerer was completing the Doomsday Book, a list of his subjects and their properties.\\nThere were long lists of Johns.: and Sams, Toms and Bills and no way to tell which Tom was which or one Bill from another. So a bit of extra information was added to each name. There was Thomas the Baker and Thomas the Butcher, William the Carpenter and William']\n"
     ]
    }
   ],
   "source": [
    "view_row(16, data) # bad context"
   ]
  },
  {
   "cell_type": "code",
   "execution_count": 71,
   "metadata": {},
   "outputs": [
    {
     "data": {
      "text/html": [
       "<div>\n",
       "<style scoped>\n",
       "    .dataframe tbody tr th:only-of-type {\n",
       "        vertical-align: middle;\n",
       "    }\n",
       "\n",
       "    .dataframe tbody tr th {\n",
       "        vertical-align: top;\n",
       "    }\n",
       "\n",
       "    .dataframe thead th {\n",
       "        text-align: right;\n",
       "    }\n",
       "</style>\n",
       "<table border=\"1\" class=\"dataframe\">\n",
       "  <thead>\n",
       "    <tr style=\"text-align: right;\">\n",
       "      <th></th>\n",
       "      <th>context_relevancy</th>\n",
       "      <th>context_precision</th>\n",
       "      <th>context_precision</th>\n",
       "      <th>answer_correctness</th>\n",
       "      <th>answer_relevancy</th>\n",
       "      <th>answer_similarity</th>\n",
       "    </tr>\n",
       "  </thead>\n",
       "  <tbody>\n",
       "    <tr>\n",
       "      <th>17</th>\n",
       "      <td>0.015873</td>\n",
       "      <td>1.0</td>\n",
       "      <td>1.0</td>\n",
       "      <td>0.46408</td>\n",
       "      <td>0.929556</td>\n",
       "      <td>0.999178</td>\n",
       "    </tr>\n",
       "  </tbody>\n",
       "</table>\n",
       "</div>"
      ],
      "text/plain": [
       "    context_relevancy  context_precision  context_precision  \\\n",
       "17           0.015873                1.0                1.0   \n",
       "\n",
       "    answer_correctness  answer_relevancy  answer_similarity  \n",
       "17             0.46408          0.929556           0.999178  "
      ]
     },
     "metadata": {},
     "output_type": "display_data"
    },
    {
     "data": {
      "text/html": [
       "<p style='color: orange;'>question: What is the purpose of recycling concrete in construction?</p>"
      ],
      "text/plain": [
       "<IPython.core.display.HTML object>"
      ]
     },
     "metadata": {},
     "output_type": "display_data"
    },
    {
     "data": {
      "text/html": [
       "<p style='color: green;'>ground_truth: Recycling concrete in construction helps in reutilizing the construction waste into new concrete, preserving landfill space, and reducing construction costs.</p>"
      ],
      "text/plain": [
       "<IPython.core.display.HTML object>"
      ]
     },
     "metadata": {},
     "output_type": "display_data"
    },
    {
     "data": {
      "text/html": [
       "<p style='color: yellow;'>answer: The purpose of recycling concrete in construction is to conserve natural resources, reduce waste sent to landfills, and create a profitable resource for the construction industry.</p>"
      ],
      "text/plain": [
       "<IPython.core.display.HTML object>"
      ]
     },
     "metadata": {},
     "output_type": "display_data"
    },
    {
     "name": "stdout",
     "output_type": "stream",
     "text": [
      "['CONCRETE RECYCLING Sacramento Concrete Recyclers\\nCONCRETE RECYCLING Sacramento Concrete Crushing at the actual construction site using portable crushers reduces construction Concrete Recycling\\nRecycled Aggregates-Profitable Resource Conservation\\nRecycled Aggregates—Profitable Resource Conservation Concrete recycling has proven to The substitution of crushed cement concrete for construction\\nSustainable The business of recycling concrete crunches\\nThe business of recycling concrete Sustainable The business of recycling concrete mobile crushing units are brought to construction sites to\\nRecycled Materials Crushing Sites E.V. Williams Site\\nconcrete recycling is a method of Recycled Materials Crushing Sites; Crushing at the actual construction site using portable crushers reduces\\nAA Custom Crushing We Crush Concrete!\\nWe’ve been recycling this unusable concrete waste and rubble “AA was crushing before crushing was cool.” AA Custom Crushing Inc. has provided asphalt,'\n",
      " 'construction of concrete crushing recycling in verona\\nConstruction Waste Recycling concrete-crusher.org\\nConstruction Waste Recycling Technology equipments to process construction waste into reutilized concrete Construction Waste Recycling; Concrete Crusher;\\nCrushed Concrete Aggregate Concrete Construction\\nCrushing old concrete to make aggregate for new concrete is increasing in popularity for executive director of the Construction Materials Recycling\\nconstruction of concrete crushing recycling in la rioja 2\\nConstruction of concrete crushing recycling in La Rioja. Concrete crusher; Recycling. construction waste; construction of concrete crushing recycling in\\nRecycling Concrete How to Recycle Concrete The\\nRecycling concrete from demolition project can result in Recycling of concrete pavement is a removing and crushing concrete from an existing pavement\\nConstruction Recycling For Sale Top Brand Buy'\n",
      " \"Recycling concrete from demolition project can result in Recycling of concrete pavement is a removing and crushing concrete from an existing pavement\\nConstruction Recycling For Sale Top Brand Buy\\nConstruction Recycling For Sale Top Brand , 5.High reduction ratio and crushing efficiency impact concrete breaker. 6.hydraulic engineering,\\nConcrete Recycling and Disposal Fact Sheet\\nConcrete Recycling and Disposal Fact Sheet painted concrete recycling and disposal? concrete for recycling and disposal purposes?\\nWhitman's Construction Nashville, TN Concrete, Masonry\\nWhitman’s Construction of Nashville, concrete and masonry needs. as well as onsite crushing for residential,\\nDAG Mobile Aggregate Recycling\\nYou use the finished product in the new construction on We arrive on your site and within 45 minutes we are crushing DAG Mobile Aggregate Recycling.\\nRecycle Crushing Manatts, Inc.\"\n",
      " 'You use the finished product in the new construction on We arrive on your site and within 45 minutes we are crushing DAG Mobile Aggregate Recycling.\\nRecycle Crushing Manatts, Inc.\\nhas the capability to recycle concrete Our crews also have the capability to perform third party recycle crushing. Our portable recycling Recycle Crushing.\\nConstruction Demolition Recycling Guide ()\\nAs the region grows, recycling construction and demolition materials is vital to preserving landfill space. concrete facility for recycling collection.\\nConstruction Waste Recycling Plant Shanghai Zenith\\nZenith Concrete Crushing Plant in Construction Waste Recycling Plant. Construction waste recycling is the separation and recycling of recoverable waste\\nConcrete Crushing\\nConcrete crushing Introduction. Concrete is an but from a demolition and recycling On site concrete crushing can provide construction sites with\\nNJDEP New Jersey Department of Environmental Protection'\n",
      " 'NJDEP New Jersey Department of Environmental Protection\\nNJ approved Class B Recycling Facilities Centers November, Flemington Concrete Products, LLC. 574839 BB, C. Stavola Construction Materials, Inc. 132636 C, A.\\nrecycling concrete,concrete crushing plant,mobile concrete\\nRecycling concrete mainly machinery construction waste disposal equipment to promote recycling of construction Concrete Crusher used in construction\\nRecycling Concrete How and Where to Reuse Concrete\\nReusing concrete is a way to reduce your construction costs and at the Recycling. As you start to recycle concrete, when considering concrete crushers\\nPortable Crushers Screens For Construction Site Recycling\\nServed → Portable Crushers Screens For Construction Site Recycling. Portable Crushers Screens For Construction Site Recycling. from the crusher\\nRecycling Concrete Recycled Concrete Contents']\n"
     ]
    }
   ],
   "source": [
    "view_row(17, data) # different way to say the same thing"
   ]
  },
  {
   "cell_type": "code",
   "execution_count": 72,
   "metadata": {},
   "outputs": [
    {
     "data": {
      "text/html": [
       "<div>\n",
       "<style scoped>\n",
       "    .dataframe tbody tr th:only-of-type {\n",
       "        vertical-align: middle;\n",
       "    }\n",
       "\n",
       "    .dataframe tbody tr th {\n",
       "        vertical-align: top;\n",
       "    }\n",
       "\n",
       "    .dataframe thead th {\n",
       "        text-align: right;\n",
       "    }\n",
       "</style>\n",
       "<table border=\"1\" class=\"dataframe\">\n",
       "  <thead>\n",
       "    <tr style=\"text-align: right;\">\n",
       "      <th></th>\n",
       "      <th>context_relevancy</th>\n",
       "      <th>context_precision</th>\n",
       "      <th>context_precision</th>\n",
       "      <th>answer_correctness</th>\n",
       "      <th>answer_relevancy</th>\n",
       "      <th>answer_similarity</th>\n",
       "    </tr>\n",
       "  </thead>\n",
       "  <tbody>\n",
       "    <tr>\n",
       "      <th>69</th>\n",
       "      <td>0.026316</td>\n",
       "      <td>1.0</td>\n",
       "      <td>1.0</td>\n",
       "      <td>0.736163</td>\n",
       "      <td>0.665026</td>\n",
       "      <td>0.944651</td>\n",
       "    </tr>\n",
       "  </tbody>\n",
       "</table>\n",
       "</div>"
      ],
      "text/plain": [
       "    context_relevancy  context_precision  context_precision  \\\n",
       "69           0.026316                1.0                1.0   \n",
       "\n",
       "    answer_correctness  answer_relevancy  answer_similarity  \n",
       "69            0.736163          0.665026           0.944651  "
      ]
     },
     "metadata": {},
     "output_type": "display_data"
    },
    {
     "data": {
      "text/html": [
       "<p style='color: orange;'>question: What violation did Iglesia Cristiana Ebenezer of Greenville, TX, licensee of Station KYLP-LP, commit according to the Notice of Apparent Liability for Forfeiture and Order?</p>"
      ],
      "text/plain": [
       "<IPython.core.display.HTML object>"
      ]
     },
     "metadata": {},
     "output_type": "display_data"
    },
    {
     "data": {
      "text/html": [
       "<p style='color: green;'>ground_truth: Iglesia Cristiana Ebenezer of Greenville, TX, licensee of Station KYLP-LP, violated Section 11.35(a) of the Commission's rules by failing to install Emergency Alert System (EAS) equipment and maintain EAS logs.</p>"
      ],
      "text/plain": [
       "<IPython.core.display.HTML object>"
      ]
     },
     "metadata": {},
     "output_type": "display_data"
    },
    {
     "data": {
      "text/html": [
       "<p style='color: yellow;'>answer: Iglesia Cristiana Ebenezer of Greenville, TX, licensee of Station KYLP-LP, apparently willfully and repeatedly violated Section 11.35(a) of the Commission's rules by failing to install Emergency Alert System (EAS) equipment and maintain EAS logs.</p>"
      ],
      "text/plain": [
       "<IPython.core.display.HTML object>"
      ]
     },
     "metadata": {},
     "output_type": "display_data"
    },
    {
     "name": "stdout",
     "output_type": "stream",
     "text": [
      "[\"********************************************************  Iglesia Cristiana Ebenezer of Greenville, TX Licensee of Station KYLP-LP Greenville, Texas ) ) ) ) ) ) ) File No.: EB-FIELDSCR-12-00004371 NAL/Acct. No.: 201332500003 FRN: 0015575970 Facility ID No.: 135673 NOTICE OF APPARENT LIABILITY FOR FORFEITURE AND ORDER Adopted: May 6, 2013 Released: May 6, 2013 By the District Director, Dallas Office, South Central Region, Enforcement Bureau: I. INTRODUCTION 1. In this Notice of Apparent Liability for Forfeiture and Order (NAL), we find that Iglesia Cristiana Ebenezer of Greenville, TX (Iglesia), licensee of Station KYLP-LP (Station), in Greenville, Texas, apparently willfully and repeatedly violated Section 11.35(a) of the Commission's rules (Rules),^ by failing to install Emergency Alert System (EAS) equipment and maintain EAS logs. We conclude that Iglesia is apparently liable for a forfeiture in the amount of nine thousand dollars ($9,000). In addition, we direct Iglesia to submit,\"\n",
      " \"factors to the instant case, we conclude that Iglesia is apparently liable for a forfeiture in the amount of $9,000. 7. We further order Iglesia to submit a written statement, pursuant to Section 1.16 of the Rules,^ signed under penalty of perjury by an officer or director of Iglesia, stating that Station KYLP-LP has installed operational EAS equipment as required, and otherwise complies with the EAS rules. This statement must be provided to the Dallas, Iglesia Cristiana Ebenezer of Greenville, TX is hereby NOTIFIED of this APPARENT LIABILITY FOR A FORFEITURE in the amount of nine thousand dollars ($9,000) for violations of Section 11.35(a) of the Rules.^ 9. IT IS FURTHER ORDERED that, pursuant to Section 1.80 of the Commission's rules, within thirty (30) calendar days of the release date of this Notice of Apparent Liability for Forfeiture and Order, Iglesia Cristiana Ebenezer of Greenville, TX SHALL PAY the full amount of the proposed forfeiture or SHALL FILE a written statement\"\n",
      " 'date of this Notice of Apparent Liability for Forfeiture and Order, Iglesia Cristiana Ebenezer of Greenville, TX SHALL PAY the full amount of the proposed forfeiture or SHALL FILE a written statement seeking reduction or cancellation of the proposed forfeiture. 10. IT IS FURTHER ORDERED that Iglesia Cristiana Ebenezer of Greenville, TX, Texas 75243. Iglesia shall also e-mail the written statement to SCR-Response@fcc.gov. 11. Payment of the forfeiture must be made by check or similar instrument, wire transfer, or credit card, and must include the NAL/Account number and FRN referenced above. Iglesia Cristiana Ebenezer of Greenville, TX. Iglesia Cristiana Ebenezer of Greenville, TX Iglesia Cristiana Ebenezer of Greenville, TX at 3207 Forest Lane, Garland, Texas 74042. FEDERAL COMMUNICATIONS COMMISSION James D. Wells District Director Dallas Office South Central Region Enforcement Bureau ^ File No. EB-FIELDSCR-12-00004371 incorporates the contents of File No. EB-11-DL-0053. ^ 47 C.F.R. S'\n",
      " \"any EAS equipment at its transmitter site. Moreover, Station KYLP had no EAS logs demonstrating that EAS equipment had ever been installed or operational EAS Equipment and Maintain EAS Logs. The evidence in this case is sufficient to establish that Iglesia.^ evidence before us, we find that Iglesia apparently willfully and repeatedly violated Section 11.35(a) of the Rules by failing to install EAS equipment and maintain EAS logs. B. Proposed Forfeiture and Reporting Requirement 6. Pursuant to the Commission's Forfeiture Policy Statement and Section 1.80 of the Rules, the base forfeiture amount for failing to Iglesia's failure to maintain any EAS logs for the Station warrants an upward adjustment of $1,000. Applying the Forfeiture Policy Statement, Section 1.80 of the Rules, and the statutory factors to the instant case, we conclude that Iglesia is apparently liable for a forfeiture in the amount of $9,000. 7. We further order Iglesia to submit a written statement, pursuant to Section\"\n",
      " 'System (EAS) equipment and maintain EAS logs. We conclude that Iglesia is apparently liable for a forfeiture in the amount of nine thousand dollars ($9,000). In addition, we direct Iglesia to submit, no later than thirty (30) calendar days from the release date of this NAL, a statement signed under penalty of perjury stating that Station KYLP-LP has installed operational EAS equipment and otherwise complies with the EAS rules. II. BACKGROUND 2. On March 7, 2012, in response to an unrelated complaint about the Station, an agent from the Dallas Office of the Enforcement Bureau (Dallas Office) inspected the main studio for Station KYLP-LP and observed that the station had no EAS equipment installed at the studio. On March 16, 2012, the agent also confirmed that the Station had not installed any EAS equipment at its transmitter site. Moreover, Station KYLP had no EAS logs demonstrating that EAS equipment had ever been installed or operational EAS Equipment and Maintain EAS Logs. The']\n"
     ]
    }
   ],
   "source": [
    "view_row(69, data) # different way to say the same thing"
   ]
  },
  {
   "cell_type": "markdown",
   "metadata": {},
   "source": [
    "~70% answer_correctness seems to be sufficient."
   ]
  },
  {
   "cell_type": "code",
   "execution_count": 73,
   "metadata": {},
   "outputs": [
    {
     "data": {
      "text/html": [
       "<div>\n",
       "<style scoped>\n",
       "    .dataframe tbody tr th:only-of-type {\n",
       "        vertical-align: middle;\n",
       "    }\n",
       "\n",
       "    .dataframe tbody tr th {\n",
       "        vertical-align: top;\n",
       "    }\n",
       "\n",
       "    .dataframe thead th {\n",
       "        text-align: right;\n",
       "    }\n",
       "</style>\n",
       "<table border=\"1\" class=\"dataframe\">\n",
       "  <thead>\n",
       "    <tr style=\"text-align: right;\">\n",
       "      <th></th>\n",
       "      <th>context_relevancy</th>\n",
       "      <th>context_precision</th>\n",
       "      <th>context_precision</th>\n",
       "      <th>answer_correctness</th>\n",
       "      <th>answer_relevancy</th>\n",
       "      <th>answer_similarity</th>\n",
       "    </tr>\n",
       "  </thead>\n",
       "  <tbody>\n",
       "    <tr>\n",
       "      <th>54</th>\n",
       "      <td>0.083333</td>\n",
       "      <td>0.2</td>\n",
       "      <td>0.2</td>\n",
       "      <td>-0.008504</td>\n",
       "      <td>0.0</td>\n",
       "      <td>-0.034017</td>\n",
       "    </tr>\n",
       "  </tbody>\n",
       "</table>\n",
       "</div>"
      ],
      "text/plain": [
       "    context_relevancy  context_precision  context_precision  \\\n",
       "54           0.083333                0.2                0.2   \n",
       "\n",
       "    answer_correctness  answer_relevancy  answer_similarity  \n",
       "54           -0.008504               0.0          -0.034017  "
      ]
     },
     "metadata": {},
     "output_type": "display_data"
    },
    {
     "data": {
      "text/html": [
       "<p style='color: orange;'>question: What was the purpose of the study conducted by J.L. Hamby in 1995?</p>"
      ],
      "text/plain": [
       "<IPython.core.display.HTML object>"
      ]
     },
     "metadata": {},
     "output_type": "display_data"
    },
    {
     "data": {
      "text/html": [
       "<p style='color: green;'>ground_truth: The purpose of the study was to compare the Applied Biology/Chemistry (ABC) curriculum taught using the cooperative learning method with the traditional biology curriculum taught using more typical instruction by means of student scores on a standardized biology test and science attitude survey.</p>"
      ],
      "text/plain": [
       "<IPython.core.display.HTML object>"
      ]
     },
     "metadata": {},
     "output_type": "display_data"
    },
    {
     "data": {
      "text/html": [
       "<p style='color: yellow;'>answer: The study conducted by J.L. Hamby in 1995 is not mentioned in the provided context, so I cannot answer this question based on the given information.</p>"
      ],
      "text/plain": [
       "<IPython.core.display.HTML object>"
      ]
     },
     "metadata": {},
     "output_type": "display_data"
    },
    {
     "name": "stdout",
     "output_type": "stream",
     "text": [
      "['-.View ArticlePubMedGoogle Scholar\\n-.Google. 10.2471/BLT.10.0799'\n",
      " 'Dr. Ranby is a social psychologist whose research centers around ways in which couples influence each other’s health. She maintains expertise in quantitative methods that have provided her with opportunities to collaborate on a range of different topics and has afforded her the opportunity to author a chapter on research methods for the Handbook of Health Psychology, 3rd ed. and to serve as Statistical Associate Editor for Annals of Behavioral Medicine since 2014. She has co-authored over 25 research articles and has over 10 years of experience teaching statistics and research methods at the undergraduate and graduate level. Dr. Ranby’s brings extensive experience with research design, data collection, statistical analysis, scientific writing, and team science collaboration. Her lifelong commitment to the Church, her interest in young adult discernment, and her passion for bridging academic rigor with an infrastructure to make a difference in people’s lives make her excited to be a'\n",
      " 'Part of this research is conducted in the framework of the following programs:\\nSFB1283\\nIRTG2235\\nPlease see activities page or contact page for further information'\n",
      " 'Amy Davidson | Close Read / The New Yorker.\\nscience\\nTHE INFORMATION: A HISTORY, A THEORY, A FLOOD\\nShane Parrish | Farnum Street\\nA look at James Gleick‘s book..”\\nTHERE SHOULD BE GRANDUER: BASIC SCIENCE IN THE SHADOW OF THE SEQUESTER\\nTom Levenson | The Scientific American sequester wreaks its havoc by striking hardest at particular points in the life cycle of a university researcher. New tenure-line faculty are actually somewhat insulated from the very worst of the pressure. “Every agency has set aside money for young investigators,” he says,”some from private foundations, and a lot from the feds.” Cuts in budget strike those dependent on other people’s grants — graduate students, post docs and soft-money research scientists — but a new faculty hire has somewhat better prospects than most for the first few years..\\ntelevision\\nABBEY DOWN, PARADE UP\\nHenrick Hertzberg | The New Yorker.\\nhealth\\nEXPERTS WANT MORE STUDIES FOR DIET’S ROLE FOR THE HEART\\nGina Kolata | The New York Times\\n,”\\nsex'\n",
      " 'Research Overview']\n"
     ]
    }
   ],
   "source": [
    "view_row(54, data) # bad context"
   ]
  },
  {
   "cell_type": "code",
   "execution_count": 74,
   "metadata": {},
   "outputs": [
    {
     "data": {
      "text/html": [
       "<div>\n",
       "<style scoped>\n",
       "    .dataframe tbody tr th:only-of-type {\n",
       "        vertical-align: middle;\n",
       "    }\n",
       "\n",
       "    .dataframe tbody tr th {\n",
       "        vertical-align: top;\n",
       "    }\n",
       "\n",
       "    .dataframe thead th {\n",
       "        text-align: right;\n",
       "    }\n",
       "</style>\n",
       "<table border=\"1\" class=\"dataframe\">\n",
       "  <thead>\n",
       "    <tr style=\"text-align: right;\">\n",
       "      <th></th>\n",
       "      <th>context_relevancy</th>\n",
       "      <th>context_precision</th>\n",
       "      <th>context_precision</th>\n",
       "      <th>answer_correctness</th>\n",
       "      <th>answer_relevancy</th>\n",
       "      <th>answer_similarity</th>\n",
       "    </tr>\n",
       "  </thead>\n",
       "  <tbody>\n",
       "    <tr>\n",
       "      <th>61</th>\n",
       "      <td>0.096774</td>\n",
       "      <td>0.2</td>\n",
       "      <td>0.2</td>\n",
       "      <td>-0.00847</td>\n",
       "      <td>0.806481</td>\n",
       "      <td>-0.03388</td>\n",
       "    </tr>\n",
       "  </tbody>\n",
       "</table>\n",
       "</div>"
      ],
      "text/plain": [
       "    context_relevancy  context_precision  context_precision  \\\n",
       "61           0.096774                0.2                0.2   \n",
       "\n",
       "    answer_correctness  answer_relevancy  answer_similarity  \n",
       "61            -0.00847          0.806481           -0.03388  "
      ]
     },
     "metadata": {},
     "output_type": "display_data"
    },
    {
     "data": {
      "text/html": [
       "<p style='color: orange;'>question: Who claimed responsibility for the killing of a father-son duo allegedly for spying?</p>"
      ],
      "text/plain": [
       "<IPython.core.display.HTML object>"
      ]
     },
     "metadata": {},
     "output_type": "display_data"
    },
    {
     "data": {
      "text/html": [
       "<p style='color: green;'>ground_truth: Anti-talk ULFA which is also known as ULFA (Independent) claimed responsibility for the incident.</p>"
      ],
      "text/plain": [
       "<IPython.core.display.HTML object>"
      ]
     },
     "metadata": {},
     "output_type": "display_data"
    },
    {
     "data": {
      "text/html": [
       "<p style='color: yellow;'>answer: According to the provided context, it was not specified who claimed responsibility for the killing of a father-son duo allegedly for spying. The article only mentions that Dündar and Gül were given life sentences on charges of spying, being member of a terrorist organisation, and disclosing state secrets, but does not provide information about the killing of a father-son duo.</p>"
      ],
      "text/plain": [
       "<IPython.core.display.HTML object>"
      ]
     },
     "metadata": {},
     "output_type": "display_data"
    },
    {
     "name": "stdout",
     "output_type": "stream",
     "text": [
      "[\"The city said only that it had ended discussions ''based on information received from the Department of Investigation with respect to a participant in the negotiations.'' Mr. Walker volunteered in an interview that one of his sons, Marlowe R. Walker 3rd, had been convicted of conspiracy to commit stock fraud, while insisting that his son was not a partner in or owner of the project.\"\n",
      " 'people, the United States should take responsibility for that.” It is practically impossible for the government to take open responsibility for the consequences of targeting killing when an action is done under the rubric of covert action, which is the rubric the CIA typically operates under. As noted above, DOD/JSOC is not presently more transparent than CIA. But, the argument goes, moving the bulk of targeted strikes to JSOC (and as a general matter outside the rubric of covert action) at least holds open the possibility of more public transparency. Brennan is reportedly in the camp that wants to move targeted killing to JSOC, perhaps for this reason. Maybe he is right. But we can have the debate about the proper distribution of drone-strike capabilities across the government without current and former officials inaccurately portraying the CIA in this context as a rogue actor.'\n",
      " 'Sen. Joseph McCarthy, known for hunting supposed Communists and others he sees as a threat, and two colleagues go on trial for criminal conspiracy and blackmail charges in the death of Sen. Lester Hunt, who killed himself in 1954 after his son was arrested on suspicion of soliciting sex from an undercover policeman. Think you’ve climbed into a time machine? Actually, this is alternative history presented as theater by the Mattachine Society of Washington, D.C., which has revived the name of that historical gay rights group and undertaken a mission of “archive activism,” telling the unknown stories of LGBT Americans. Hunt really did commit suicide after his son’s arrest, but McCarthy never paid for his complicity in the matter. The mock trial, Wednesday at 7:30 p.m. at All Souls Church Unitarian in the nation’s capital, will be introduced by former U.S. senator Alan Simpson and will feature several other political and media luminaries, including lawyer and activist Mindy Daniels,'\n",
      " 'More failure of RussiaGate propaganda :\\nHello Rachel Maddow, MSNBC, USA Today, CNN, Washington Post, Slate: Another Major Russia Story Falls Apart\\nGeorge Webb and his crowd mind continue their investigation. The third in this list begins dealing with more fake employees throughout the Federal Government, beginning with the Congressional Administrative Office. Very impressive guy, George Webb Sweigart :\\nJason Goodman and his crowd mind continue their investigations. This is the interview of Dr. Thomas Rudd. Watch the cops doing the interrogation of a young woman, innocent in fact. Very different than you see on TV cop shows, these guys is not trying to find the truth, he wants to close the case. So the coroner screwed up, the cops took the advantage of a small person, 8 – 10 hours of interrogation of a mildly retarded young woman, she resists until the very end. A long discussion of the corruption in the ‘justice’ system and law enforcement. Very bad :'\n",
      " 'Dündar and Gül were both given life sentences on charges of spying, being member of a terrorist organisation, and disclosing state secrets, in connection with an article published in May 2015 with evidence that that Turkey’s National Intelligence Organization (MIT) has been delivering arms to rebels in Syria. The newspaper produced a video and photos to support the claim.\\nLater, under international pressure, Turkey’s Constitutional Court accepted that the two journalists were not responsible for terrorism, and only the charges for revealing state secrets were maintained. However, Erdoğan said he did not accept the Constitutional court decision.\\nOn 6 May a gunman attacked Dündar, who said he believed that this happened because of the President’s rebuttal of the Constitutional court decision.\\n‘The greatest prison for journalists’']\n"
     ]
    }
   ],
   "source": [
    "view_row(61, data) # bad context"
   ]
  },
  {
   "cell_type": "code",
   "execution_count": 76,
   "metadata": {},
   "outputs": [
    {
     "data": {
      "text/html": [
       "<div>\n",
       "<style scoped>\n",
       "    .dataframe tbody tr th:only-of-type {\n",
       "        vertical-align: middle;\n",
       "    }\n",
       "\n",
       "    .dataframe tbody tr th {\n",
       "        vertical-align: top;\n",
       "    }\n",
       "\n",
       "    .dataframe thead th {\n",
       "        text-align: right;\n",
       "    }\n",
       "</style>\n",
       "<table border=\"1\" class=\"dataframe\">\n",
       "  <thead>\n",
       "    <tr style=\"text-align: right;\">\n",
       "      <th></th>\n",
       "      <th>context_relevancy</th>\n",
       "      <th>context_precision</th>\n",
       "      <th>context_precision</th>\n",
       "      <th>answer_correctness</th>\n",
       "      <th>answer_relevancy</th>\n",
       "      <th>answer_similarity</th>\n",
       "    </tr>\n",
       "  </thead>\n",
       "  <tbody>\n",
       "    <tr>\n",
       "      <th>64</th>\n",
       "      <td>0.053571</td>\n",
       "      <td>1.0</td>\n",
       "      <td>1.0</td>\n",
       "      <td>0.005513</td>\n",
       "      <td>0.654914</td>\n",
       "      <td>0.022052</td>\n",
       "    </tr>\n",
       "  </tbody>\n",
       "</table>\n",
       "</div>"
      ],
      "text/plain": [
       "    context_relevancy  context_precision  context_precision  \\\n",
       "64           0.053571                1.0                1.0   \n",
       "\n",
       "    answer_correctness  answer_relevancy  answer_similarity  \n",
       "64            0.005513          0.654914           0.022052  "
      ]
     },
     "metadata": {},
     "output_type": "display_data"
    },
    {
     "data": {
      "text/html": [
       "<p style='color: orange;'>question: How did the person hang the background paper in the garage?</p>"
      ],
      "text/plain": [
       "<IPython.core.display.HTML object>"
      ]
     },
     "metadata": {},
     "output_type": "display_data"
    },
    {
     "data": {
      "text/html": [
       "<p style='color: green;'>ground_truth: The person used C clamps to attach the background paper to the top of the garage door. They used an old bar to hold the roll of paper and the \"c\" part of the two C clamps. Later, they built a piece of wood with holes in it, hung the rolls on a length of PVC pipe, and capped the end. The setup was still held on by C Clamps.</p>"
      ],
      "text/plain": [
       "<IPython.core.display.HTML object>"
      ]
     },
     "metadata": {},
     "output_type": "display_data"
    },
    {
     "data": {
      "text/html": [
       "<p style='color: yellow;'>answer: You got the rolls of background paper from a store that sells craft supplies or online retailers.</p>"
      ],
      "text/plain": [
       "<IPython.core.display.HTML object>"
      ]
     },
     "metadata": {},
     "output_type": "display_data"
    },
    {
     "name": "stdout",
     "output_type": "stream",
     "text": [
      "['I bought my background paper a couple of years ago – I bought 3 rolls. I have pink, teal, and gray. Then I bought white recently.\\nSo anyways, I had the rolls but I didn’t use them too often because I stored them in the basement. When I did use them, I clipped the end of the roll to a chair or trashcan (setting the roll on the ground) so the paper didn’t go very high – – good for sitting kiddos, but that was about it.\\nWell, a few weeks ago, I asked Trevor if he’d hold the background paper up high while one the kids took my picture – cause I didn’t know how to hang it from anything high. He looked around, and said “just a minute” – grabbed a couple of those C clap things and attached them to the top of garage door (it was open) – -then he grabbed an old bar thing we had and shoved it through the roll of paper and the “c” part of the two C clamps – and it held!!\\nAnd I took these pictures (by the way, it’s wedding season – be sure you have belts for your little men!)'\n",
      " 'And I took these pictures (by the way, it’s wedding season – be sure you have belts for your little men!)\\nHere’s how it looks from the back (standing in the garage looking out) – –\\nWell, I LOVED IT!! I mentioned that I had more rolls in the basement, so maybe he could hang one up on the other side of the garage. He got even fancier this time – – 2 rolls at once. He built this piece of wood with holes in it, hung the rolls on length of PVC pipe, and caped the end (he was hoping the cap handles would roll the paper up, but they don’t). It’s still being held on by C Clamps – 2 on each side. This is when the garage door is up and I’m looking up at it:\\nHere’s what it looks like from the driveway – – see the rolls up in their spot??\\nAnd here’s what it looks like when the garage door is down – it just sits against the door:'\n",
      " 'I love using background paper, but I don’t do it too often because it’s a hassle to drag it out. BUT – you may have noticed I’ve been using it a lot more recently. Trevor hooked me up! And I’m here to show you – – how to hang background paper in your garage – it’s awesome!!\\nFirst off, I’ve probably mentioned this a million times, but one of the best places to take pictures is in your garage – really! Open up the garage door and tons of natural light pours in, yet it’s not in the direct sun (well, for me in the morning it’s not – – the picture above was taken in the late afternoon and you can see the sun starting to creep in). It’s perfect.\\nI bought my background paper a couple of years ago – I bought 3 rolls. I have pink, teal, and gray. Then I bought white recently.'\n",
      " 'Here’s what it looks like from the driveway – – see the rolls up in their spot??\\nAnd here’s what it looks like when the garage door is down – it just sits against the door:\\nIt’s been up for several weeks and not fallen off (which was my fear). I need him to build another one of these fancy versions for the other side, so it can hold 2 instead of 1.\\nAnd where was this thing years ago?!?! It’s SO HANDY!! Anytime I need a picture, I just open the garage door and pull down on whichever paper I want to use. Then roll it up when I’m done. LOVE IT!!\\nIt lets me get pictures that look kind of professional – – here’s a sample from some I took for Father’s Day:\\nSo get some rolls of background paper and hook it up to your garage door – it works!! Go try it!!\\nNeat! Where do you get the rolls of paper from???\\nWhat a cool idea! And side note-love the hand prints on the back of your van!\\nThis is a great idea!!! I’d also like to know where you get the rolls of paper?'\n",
      " 'Great IDea. I’m so pinning this so I can do it later. Thanks for sharing.\\nSuch a good idea! What kind of paper is it?? It seems like it would get really beaten up if it was just craft paper… ?\\nLooks like it is the question of the day, but I didn’t see the answer in the comments! Where did you get the paper from? 🙂\\nsorry I’m slow to reply – – I bought it here:\\ngood price but shipping can get ya, so be sure to order more than one…\\nwhat kind of pole did you use…']\n"
     ]
    }
   ],
   "source": [
    "view_row(64, data) # bad answer -- information in 2 contexts"
   ]
  },
  {
   "cell_type": "code",
   "execution_count": 80,
   "metadata": {},
   "outputs": [
    {
     "data": {
      "text/html": [
       "<div>\n",
       "<style scoped>\n",
       "    .dataframe tbody tr th:only-of-type {\n",
       "        vertical-align: middle;\n",
       "    }\n",
       "\n",
       "    .dataframe tbody tr th {\n",
       "        vertical-align: top;\n",
       "    }\n",
       "\n",
       "    .dataframe thead th {\n",
       "        text-align: right;\n",
       "    }\n",
       "</style>\n",
       "<table border=\"1\" class=\"dataframe\">\n",
       "  <thead>\n",
       "    <tr style=\"text-align: right;\">\n",
       "      <th></th>\n",
       "      <th>question</th>\n",
       "      <th>context_relevancy</th>\n",
       "      <th>context_precision</th>\n",
       "      <th>answer_relevancy</th>\n",
       "      <th>answer_similarity</th>\n",
       "      <th>answer_correctness</th>\n",
       "    </tr>\n",
       "  </thead>\n",
       "  <tbody>\n",
       "    <tr>\n",
       "      <th>64</th>\n",
       "      <td>How did the person hang the background paper i...</td>\n",
       "      <td>0.053571</td>\n",
       "      <td>1.000000</td>\n",
       "      <td>0.654914</td>\n",
       "      <td>0.022052</td>\n",
       "      <td>0.005513</td>\n",
       "    </tr>\n",
       "    <tr>\n",
       "      <th>20</th>\n",
       "      <td>What are some of the guidelines for disciplini...</td>\n",
       "      <td>0.133333</td>\n",
       "      <td>0.916667</td>\n",
       "      <td>0.902041</td>\n",
       "      <td>-0.004615</td>\n",
       "      <td>0.123846</td>\n",
       "    </tr>\n",
       "    <tr>\n",
       "      <th>60</th>\n",
       "      <td>What does the Advent wreath and its components...</td>\n",
       "      <td>0.085714</td>\n",
       "      <td>1.000000</td>\n",
       "      <td>0.847292</td>\n",
       "      <td>0.018024</td>\n",
       "      <td>0.192006</td>\n",
       "    </tr>\n",
       "    <tr>\n",
       "      <th>34</th>\n",
       "      <td>What are the 5 ways to make your Mum's day spe...</td>\n",
       "      <td>0.070175</td>\n",
       "      <td>1.000000</td>\n",
       "      <td>0.718130</td>\n",
       "      <td>-0.006801</td>\n",
       "      <td>0.212585</td>\n",
       "    </tr>\n",
       "    <tr>\n",
       "      <th>5</th>\n",
       "      <td>What are some of the features of Fabiana Filip...</td>\n",
       "      <td>0.066667</td>\n",
       "      <td>1.000000</td>\n",
       "      <td>0.910012</td>\n",
       "      <td>0.011798</td>\n",
       "      <td>0.217235</td>\n",
       "    </tr>\n",
       "    <tr>\n",
       "      <th>33</th>\n",
       "      <td>Who are the characters in Wuthering Heights th...</td>\n",
       "      <td>0.269231</td>\n",
       "      <td>0.887500</td>\n",
       "      <td>0.897833</td>\n",
       "      <td>0.019751</td>\n",
       "      <td>0.254938</td>\n",
       "    </tr>\n",
       "    <tr>\n",
       "      <th>98</th>\n",
       "      <td>What changes are being made to the storage AM ...</td>\n",
       "      <td>0.036585</td>\n",
       "      <td>0.750000</td>\n",
       "      <td>0.687480</td>\n",
       "      <td>-0.008047</td>\n",
       "      <td>0.270716</td>\n",
       "    </tr>\n",
       "    <tr>\n",
       "      <th>31</th>\n",
       "      <td>What are the features of the STEM Teacher’s To...</td>\n",
       "      <td>0.069767</td>\n",
       "      <td>1.000000</td>\n",
       "      <td>0.861340</td>\n",
       "      <td>0.053168</td>\n",
       "      <td>0.313292</td>\n",
       "    </tr>\n",
       "    <tr>\n",
       "      <th>43</th>\n",
       "      <td>What are some of the criticisms mentioned abou...</td>\n",
       "      <td>0.085106</td>\n",
       "      <td>1.000000</td>\n",
       "      <td>0.909093</td>\n",
       "      <td>0.456455</td>\n",
       "      <td>0.328399</td>\n",
       "    </tr>\n",
       "    <tr>\n",
       "      <th>51</th>\n",
       "      <td>What are some features of the Web-tex Northern...</td>\n",
       "      <td>0.093023</td>\n",
       "      <td>0.950000</td>\n",
       "      <td>0.931581</td>\n",
       "      <td>-0.001335</td>\n",
       "      <td>0.374666</td>\n",
       "    </tr>\n",
       "    <tr>\n",
       "      <th>3</th>\n",
       "      <td>What is the main difference between the Nation...</td>\n",
       "      <td>0.148148</td>\n",
       "      <td>0.679167</td>\n",
       "      <td>0.683845</td>\n",
       "      <td>-0.000447</td>\n",
       "      <td>0.374888</td>\n",
       "    </tr>\n",
       "    <tr>\n",
       "      <th>72</th>\n",
       "      <td>What was the innovative approach of AUNE's Dep...</td>\n",
       "      <td>0.133333</td>\n",
       "      <td>1.000000</td>\n",
       "      <td>0.894205</td>\n",
       "      <td>0.009260</td>\n",
       "      <td>0.377315</td>\n",
       "    </tr>\n",
       "    <tr>\n",
       "      <th>83</th>\n",
       "      <td>What were the responsibilities of the dons in ...</td>\n",
       "      <td>0.133333</td>\n",
       "      <td>0.916667</td>\n",
       "      <td>0.865745</td>\n",
       "      <td>0.021749</td>\n",
       "      <td>0.380437</td>\n",
       "    </tr>\n",
       "    <tr>\n",
       "      <th>79</th>\n",
       "      <td>When and where was UFC 142 held?</td>\n",
       "      <td>0.055556</td>\n",
       "      <td>1.000000</td>\n",
       "      <td>0.866396</td>\n",
       "      <td>0.026783</td>\n",
       "      <td>0.381696</td>\n",
       "    </tr>\n",
       "    <tr>\n",
       "      <th>45</th>\n",
       "      <td>What is the impact of sleep disturbances on th...</td>\n",
       "      <td>0.102564</td>\n",
       "      <td>0.833333</td>\n",
       "      <td>0.833587</td>\n",
       "      <td>0.030395</td>\n",
       "      <td>0.382599</td>\n",
       "    </tr>\n",
       "    <tr>\n",
       "      <th>68</th>\n",
       "      <td>What does inclusive growth mean according to M...</td>\n",
       "      <td>0.138889</td>\n",
       "      <td>0.950000</td>\n",
       "      <td>0.832921</td>\n",
       "      <td>0.034655</td>\n",
       "      <td>0.383664</td>\n",
       "    </tr>\n",
       "    <tr>\n",
       "      <th>62</th>\n",
       "      <td>Who is the most followed person on Instagram a...</td>\n",
       "      <td>0.046875</td>\n",
       "      <td>1.000000</td>\n",
       "      <td>0.791050</td>\n",
       "      <td>0.088007</td>\n",
       "      <td>0.397002</td>\n",
       "    </tr>\n",
       "    <tr>\n",
       "      <th>40</th>\n",
       "      <td>What are some strategies to improve the effici...</td>\n",
       "      <td>0.114286</td>\n",
       "      <td>0.950000</td>\n",
       "      <td>0.852661</td>\n",
       "      <td>0.998771</td>\n",
       "      <td>0.399693</td>\n",
       "    </tr>\n",
       "    <tr>\n",
       "      <th>92</th>\n",
       "      <td>What improvements were observed in the adolesc...</td>\n",
       "      <td>0.096774</td>\n",
       "      <td>1.000000</td>\n",
       "      <td>0.689971</td>\n",
       "      <td>0.865494</td>\n",
       "      <td>0.403873</td>\n",
       "    </tr>\n",
       "    <tr>\n",
       "      <th>66</th>\n",
       "      <td>What is the routine of an Early Intervention S...</td>\n",
       "      <td>0.090909</td>\n",
       "      <td>0.805556</td>\n",
       "      <td>0.891062</td>\n",
       "      <td>0.811105</td>\n",
       "      <td>0.417062</td>\n",
       "    </tr>\n",
       "    <tr>\n",
       "      <th>97</th>\n",
       "      <td>What are some trendy short hairstyles for fall?</td>\n",
       "      <td>0.190476</td>\n",
       "      <td>1.000000</td>\n",
       "      <td>0.865143</td>\n",
       "      <td>0.998195</td>\n",
       "      <td>0.426019</td>\n",
       "    </tr>\n",
       "    <tr>\n",
       "      <th>91</th>\n",
       "      <td>What are some of the places where you can get ...</td>\n",
       "      <td>0.081081</td>\n",
       "      <td>0.755556</td>\n",
       "      <td>0.728037</td>\n",
       "      <td>0.998438</td>\n",
       "      <td>0.437110</td>\n",
       "    </tr>\n",
       "    <tr>\n",
       "      <th>53</th>\n",
       "      <td>What are the three main parts of Quality SEO?</td>\n",
       "      <td>0.081081</td>\n",
       "      <td>1.000000</td>\n",
       "      <td>0.919051</td>\n",
       "      <td>0.999226</td>\n",
       "      <td>0.437306</td>\n",
       "    </tr>\n",
       "    <tr>\n",
       "      <th>17</th>\n",
       "      <td>What is the purpose of recycling concrete in c...</td>\n",
       "      <td>0.015873</td>\n",
       "      <td>1.000000</td>\n",
       "      <td>0.929556</td>\n",
       "      <td>0.999178</td>\n",
       "      <td>0.464080</td>\n",
       "    </tr>\n",
       "    <tr>\n",
       "      <th>73</th>\n",
       "      <td>What are some of the features of the Doro Phon...</td>\n",
       "      <td>0.034483</td>\n",
       "      <td>1.000000</td>\n",
       "      <td>0.902347</td>\n",
       "      <td>0.776353</td>\n",
       "      <td>0.494088</td>\n",
       "    </tr>\n",
       "    <tr>\n",
       "      <th>2</th>\n",
       "      <td>What are the unique features of the Coolands f...</td>\n",
       "      <td>0.137931</td>\n",
       "      <td>0.805556</td>\n",
       "      <td>0.930422</td>\n",
       "      <td>0.999497</td>\n",
       "      <td>0.499874</td>\n",
       "    </tr>\n",
       "    <tr>\n",
       "      <th>77</th>\n",
       "      <td>What is the advice given to hosts who serve al...</td>\n",
       "      <td>0.083333</td>\n",
       "      <td>0.866667</td>\n",
       "      <td>0.812534</td>\n",
       "      <td>-0.000483</td>\n",
       "      <td>0.499879</td>\n",
       "    </tr>\n",
       "  </tbody>\n",
       "</table>\n",
       "</div>"
      ],
      "text/plain": [
       "                                             question  context_relevancy  \\\n",
       "64  How did the person hang the background paper i...           0.053571   \n",
       "20  What are some of the guidelines for disciplini...           0.133333   \n",
       "60  What does the Advent wreath and its components...           0.085714   \n",
       "34  What are the 5 ways to make your Mum's day spe...           0.070175   \n",
       "5   What are some of the features of Fabiana Filip...           0.066667   \n",
       "33  Who are the characters in Wuthering Heights th...           0.269231   \n",
       "98  What changes are being made to the storage AM ...           0.036585   \n",
       "31  What are the features of the STEM Teacher’s To...           0.069767   \n",
       "43  What are some of the criticisms mentioned abou...           0.085106   \n",
       "51  What are some features of the Web-tex Northern...           0.093023   \n",
       "3   What is the main difference between the Nation...           0.148148   \n",
       "72  What was the innovative approach of AUNE's Dep...           0.133333   \n",
       "83  What were the responsibilities of the dons in ...           0.133333   \n",
       "79                   When and where was UFC 142 held?           0.055556   \n",
       "45  What is the impact of sleep disturbances on th...           0.102564   \n",
       "68  What does inclusive growth mean according to M...           0.138889   \n",
       "62  Who is the most followed person on Instagram a...           0.046875   \n",
       "40  What are some strategies to improve the effici...           0.114286   \n",
       "92  What improvements were observed in the adolesc...           0.096774   \n",
       "66  What is the routine of an Early Intervention S...           0.090909   \n",
       "97    What are some trendy short hairstyles for fall?           0.190476   \n",
       "91  What are some of the places where you can get ...           0.081081   \n",
       "53      What are the three main parts of Quality SEO?           0.081081   \n",
       "17  What is the purpose of recycling concrete in c...           0.015873   \n",
       "73  What are some of the features of the Doro Phon...           0.034483   \n",
       "2   What are the unique features of the Coolands f...           0.137931   \n",
       "77  What is the advice given to hosts who serve al...           0.083333   \n",
       "\n",
       "    context_precision  answer_relevancy  answer_similarity  answer_correctness  \n",
       "64           1.000000          0.654914           0.022052            0.005513  \n",
       "20           0.916667          0.902041          -0.004615            0.123846  \n",
       "60           1.000000          0.847292           0.018024            0.192006  \n",
       "34           1.000000          0.718130          -0.006801            0.212585  \n",
       "5            1.000000          0.910012           0.011798            0.217235  \n",
       "33           0.887500          0.897833           0.019751            0.254938  \n",
       "98           0.750000          0.687480          -0.008047            0.270716  \n",
       "31           1.000000          0.861340           0.053168            0.313292  \n",
       "43           1.000000          0.909093           0.456455            0.328399  \n",
       "51           0.950000          0.931581          -0.001335            0.374666  \n",
       "3            0.679167          0.683845          -0.000447            0.374888  \n",
       "72           1.000000          0.894205           0.009260            0.377315  \n",
       "83           0.916667          0.865745           0.021749            0.380437  \n",
       "79           1.000000          0.866396           0.026783            0.381696  \n",
       "45           0.833333          0.833587           0.030395            0.382599  \n",
       "68           0.950000          0.832921           0.034655            0.383664  \n",
       "62           1.000000          0.791050           0.088007            0.397002  \n",
       "40           0.950000          0.852661           0.998771            0.399693  \n",
       "92           1.000000          0.689971           0.865494            0.403873  \n",
       "66           0.805556          0.891062           0.811105            0.417062  \n",
       "97           1.000000          0.865143           0.998195            0.426019  \n",
       "91           0.755556          0.728037           0.998438            0.437110  \n",
       "53           1.000000          0.919051           0.999226            0.437306  \n",
       "17           1.000000          0.929556           0.999178            0.464080  \n",
       "73           1.000000          0.902347           0.776353            0.494088  \n",
       "2            0.805556          0.930422           0.999497            0.499874  \n",
       "77           0.866667          0.812534          -0.000483            0.499879  "
      ]
     },
     "execution_count": 80,
     "metadata": {},
     "output_type": "execute_result"
    }
   ],
   "source": [
    "data[(data['answer_correctness']<0.5) & (data['context_precision']>0.5)][['question','context_relevancy','context_precision','answer_relevancy','answer_similarity','answer_correctness']].sort_values(by='answer_correctness',ascending=True)"
   ]
  },
  {
   "cell_type": "markdown",
   "metadata": {},
   "source": [
    "About 25/100 have answer_correctness < 0.5 with context_precision > 0.5. We see low context_relevancy, so we think re-ranking should help for these questions."
   ]
  },
  {
   "cell_type": "code",
   "execution_count": 83,
   "metadata": {},
   "outputs": [
    {
     "data": {
      "text/html": [
       "<div>\n",
       "<style scoped>\n",
       "    .dataframe tbody tr th:only-of-type {\n",
       "        vertical-align: middle;\n",
       "    }\n",
       "\n",
       "    .dataframe tbody tr th {\n",
       "        vertical-align: top;\n",
       "    }\n",
       "\n",
       "    .dataframe thead th {\n",
       "        text-align: right;\n",
       "    }\n",
       "</style>\n",
       "<table border=\"1\" class=\"dataframe\">\n",
       "  <thead>\n",
       "    <tr style=\"text-align: right;\">\n",
       "      <th></th>\n",
       "      <th>question</th>\n",
       "      <th>context_relevancy</th>\n",
       "      <th>context_precision</th>\n",
       "      <th>answer_relevancy</th>\n",
       "      <th>answer_similarity</th>\n",
       "      <th>answer_correctness</th>\n",
       "    </tr>\n",
       "  </thead>\n",
       "  <tbody>\n",
       "    <tr>\n",
       "      <th>54</th>\n",
       "      <td>What was the purpose of the study conducted by...</td>\n",
       "      <td>0.083333</td>\n",
       "      <td>0.200000</td>\n",
       "      <td>0.000000</td>\n",
       "      <td>-0.034017</td>\n",
       "      <td>-0.008504</td>\n",
       "    </tr>\n",
       "    <tr>\n",
       "      <th>61</th>\n",
       "      <td>Who claimed responsibility for the killing of ...</td>\n",
       "      <td>0.096774</td>\n",
       "      <td>0.200000</td>\n",
       "      <td>0.806481</td>\n",
       "      <td>-0.033880</td>\n",
       "      <td>-0.008470</td>\n",
       "    </tr>\n",
       "    <tr>\n",
       "      <th>48</th>\n",
       "      <td>What are some of the recommended dishes at the...</td>\n",
       "      <td>0.034483</td>\n",
       "      <td>0.000000</td>\n",
       "      <td>NaN</td>\n",
       "      <td>-0.023363</td>\n",
       "      <td>-0.005841</td>\n",
       "    </tr>\n",
       "    <tr>\n",
       "      <th>70</th>\n",
       "      <td>What is the main concern of the individual in ...</td>\n",
       "      <td>0.088889</td>\n",
       "      <td>0.000000</td>\n",
       "      <td>0.823511</td>\n",
       "      <td>-0.021530</td>\n",
       "      <td>-0.005383</td>\n",
       "    </tr>\n",
       "    <tr>\n",
       "      <th>67</th>\n",
       "      <td>What was the first job Edwin Koo landed in his...</td>\n",
       "      <td>0.038462</td>\n",
       "      <td>0.000000</td>\n",
       "      <td>0.000000</td>\n",
       "      <td>-0.019306</td>\n",
       "      <td>-0.004826</td>\n",
       "    </tr>\n",
       "    <tr>\n",
       "      <th>56</th>\n",
       "      <td>What does the name Madigan mean in Irish?</td>\n",
       "      <td>0.105263</td>\n",
       "      <td>0.000000</td>\n",
       "      <td>0.641145</td>\n",
       "      <td>0.003677</td>\n",
       "      <td>0.000919</td>\n",
       "    </tr>\n",
       "    <tr>\n",
       "      <th>11</th>\n",
       "      <td>What does the word 'quantum' mean as per the c...</td>\n",
       "      <td>0.068966</td>\n",
       "      <td>0.000000</td>\n",
       "      <td>0.762074</td>\n",
       "      <td>0.015061</td>\n",
       "      <td>0.003765</td>\n",
       "    </tr>\n",
       "    <tr>\n",
       "      <th>89</th>\n",
       "      <td>What strategy did General Electric use to conn...</td>\n",
       "      <td>0.055556</td>\n",
       "      <td>0.000000</td>\n",
       "      <td>0.000000</td>\n",
       "      <td>0.256288</td>\n",
       "      <td>0.064072</td>\n",
       "    </tr>\n",
       "    <tr>\n",
       "      <th>29</th>\n",
       "      <td>What is the main conflict in the third book of...</td>\n",
       "      <td>0.081081</td>\n",
       "      <td>0.000000</td>\n",
       "      <td>0.000000</td>\n",
       "      <td>0.364442</td>\n",
       "      <td>0.091111</td>\n",
       "    </tr>\n",
       "    <tr>\n",
       "      <th>35</th>\n",
       "      <td>What are Dr. Zgarrick's research interests?</td>\n",
       "      <td>0.075000</td>\n",
       "      <td>0.000000</td>\n",
       "      <td>0.904094</td>\n",
       "      <td>0.634275</td>\n",
       "      <td>0.158569</td>\n",
       "    </tr>\n",
       "    <tr>\n",
       "      <th>16</th>\n",
       "      <td>What are some of the names Morganite is also k...</td>\n",
       "      <td>0.015385</td>\n",
       "      <td>0.000000</td>\n",
       "      <td>0.687643</td>\n",
       "      <td>0.638234</td>\n",
       "      <td>0.159558</td>\n",
       "    </tr>\n",
       "    <tr>\n",
       "      <th>65</th>\n",
       "      <td>What did the woman name her baby to compensate...</td>\n",
       "      <td>0.069767</td>\n",
       "      <td>0.000000</td>\n",
       "      <td>0.790862</td>\n",
       "      <td>0.997511</td>\n",
       "      <td>0.249378</td>\n",
       "    </tr>\n",
       "    <tr>\n",
       "      <th>50</th>\n",
       "      <td>Who was let go after not responding to an emai...</td>\n",
       "      <td>0.076923</td>\n",
       "      <td>0.416667</td>\n",
       "      <td>0.743667</td>\n",
       "      <td>0.997672</td>\n",
       "      <td>0.249418</td>\n",
       "    </tr>\n",
       "    <tr>\n",
       "      <th>8</th>\n",
       "      <td>What is the reason for the closure of the comm...</td>\n",
       "      <td>0.000000</td>\n",
       "      <td>0.000000</td>\n",
       "      <td>0.757996</td>\n",
       "      <td>0.998130</td>\n",
       "      <td>0.249533</td>\n",
       "    </tr>\n",
       "    <tr>\n",
       "      <th>78</th>\n",
       "      <td>What is the concern of the husband of the pers...</td>\n",
       "      <td>0.150000</td>\n",
       "      <td>0.000000</td>\n",
       "      <td>0.462063</td>\n",
       "      <td>0.998412</td>\n",
       "      <td>0.249603</td>\n",
       "    </tr>\n",
       "    <tr>\n",
       "      <th>85</th>\n",
       "      <td>What is the two-step secret to making money on...</td>\n",
       "      <td>0.075472</td>\n",
       "      <td>0.000000</td>\n",
       "      <td>0.772883</td>\n",
       "      <td>0.999640</td>\n",
       "      <td>0.249910</td>\n",
       "    </tr>\n",
       "    <tr>\n",
       "      <th>99</th>\n",
       "      <td>What does the registration for WindyCityRails ...</td>\n",
       "      <td>0.081081</td>\n",
       "      <td>0.000000</td>\n",
       "      <td>0.786561</td>\n",
       "      <td>0.034767</td>\n",
       "      <td>0.258692</td>\n",
       "    </tr>\n",
       "    <tr>\n",
       "      <th>9</th>\n",
       "      <td>What are the five love and relationship podcas...</td>\n",
       "      <td>0.071429</td>\n",
       "      <td>0.000000</td>\n",
       "      <td>0.929680</td>\n",
       "      <td>-0.006318</td>\n",
       "      <td>0.373421</td>\n",
       "    </tr>\n",
       "    <tr>\n",
       "      <th>57</th>\n",
       "      <td>What is the author's opinion on the actions of...</td>\n",
       "      <td>0.157895</td>\n",
       "      <td>0.333333</td>\n",
       "      <td>0.870391</td>\n",
       "      <td>-0.004654</td>\n",
       "      <td>0.373836</td>\n",
       "    </tr>\n",
       "    <tr>\n",
       "      <th>36</th>\n",
       "      <td>What did Barbara Coombs Lee suggest to help mo...</td>\n",
       "      <td>0.063830</td>\n",
       "      <td>0.000000</td>\n",
       "      <td>0.777151</td>\n",
       "      <td>0.018951</td>\n",
       "      <td>0.379738</td>\n",
       "    </tr>\n",
       "    <tr>\n",
       "      <th>86</th>\n",
       "      <td>What are some of the functions of barstools co...</td>\n",
       "      <td>0.142857</td>\n",
       "      <td>0.000000</td>\n",
       "      <td>0.774281</td>\n",
       "      <td>0.998765</td>\n",
       "      <td>0.437191</td>\n",
       "    </tr>\n",
       "    <tr>\n",
       "      <th>18</th>\n",
       "      <td>What are some features of the Womens Drew Argo...</td>\n",
       "      <td>0.085714</td>\n",
       "      <td>0.000000</td>\n",
       "      <td>0.846045</td>\n",
       "      <td>0.999095</td>\n",
       "      <td>0.464059</td>\n",
       "    </tr>\n",
       "  </tbody>\n",
       "</table>\n",
       "</div>"
      ],
      "text/plain": [
       "                                             question  context_relevancy  \\\n",
       "54  What was the purpose of the study conducted by...           0.083333   \n",
       "61  Who claimed responsibility for the killing of ...           0.096774   \n",
       "48  What are some of the recommended dishes at the...           0.034483   \n",
       "70  What is the main concern of the individual in ...           0.088889   \n",
       "67  What was the first job Edwin Koo landed in his...           0.038462   \n",
       "56          What does the name Madigan mean in Irish?           0.105263   \n",
       "11  What does the word 'quantum' mean as per the c...           0.068966   \n",
       "89  What strategy did General Electric use to conn...           0.055556   \n",
       "29  What is the main conflict in the third book of...           0.081081   \n",
       "35        What are Dr. Zgarrick's research interests?           0.075000   \n",
       "16  What are some of the names Morganite is also k...           0.015385   \n",
       "65  What did the woman name her baby to compensate...           0.069767   \n",
       "50  Who was let go after not responding to an emai...           0.076923   \n",
       "8   What is the reason for the closure of the comm...           0.000000   \n",
       "78  What is the concern of the husband of the pers...           0.150000   \n",
       "85  What is the two-step secret to making money on...           0.075472   \n",
       "99  What does the registration for WindyCityRails ...           0.081081   \n",
       "9   What are the five love and relationship podcas...           0.071429   \n",
       "57  What is the author's opinion on the actions of...           0.157895   \n",
       "36  What did Barbara Coombs Lee suggest to help mo...           0.063830   \n",
       "86  What are some of the functions of barstools co...           0.142857   \n",
       "18  What are some features of the Womens Drew Argo...           0.085714   \n",
       "\n",
       "    context_precision  answer_relevancy  answer_similarity  answer_correctness  \n",
       "54           0.200000          0.000000          -0.034017           -0.008504  \n",
       "61           0.200000          0.806481          -0.033880           -0.008470  \n",
       "48           0.000000               NaN          -0.023363           -0.005841  \n",
       "70           0.000000          0.823511          -0.021530           -0.005383  \n",
       "67           0.000000          0.000000          -0.019306           -0.004826  \n",
       "56           0.000000          0.641145           0.003677            0.000919  \n",
       "11           0.000000          0.762074           0.015061            0.003765  \n",
       "89           0.000000          0.000000           0.256288            0.064072  \n",
       "29           0.000000          0.000000           0.364442            0.091111  \n",
       "35           0.000000          0.904094           0.634275            0.158569  \n",
       "16           0.000000          0.687643           0.638234            0.159558  \n",
       "65           0.000000          0.790862           0.997511            0.249378  \n",
       "50           0.416667          0.743667           0.997672            0.249418  \n",
       "8            0.000000          0.757996           0.998130            0.249533  \n",
       "78           0.000000          0.462063           0.998412            0.249603  \n",
       "85           0.000000          0.772883           0.999640            0.249910  \n",
       "99           0.000000          0.786561           0.034767            0.258692  \n",
       "9            0.000000          0.929680          -0.006318            0.373421  \n",
       "57           0.333333          0.870391          -0.004654            0.373836  \n",
       "36           0.000000          0.777151           0.018951            0.379738  \n",
       "86           0.000000          0.774281           0.998765            0.437191  \n",
       "18           0.000000          0.846045           0.999095            0.464059  "
      ]
     },
     "execution_count": 83,
     "metadata": {},
     "output_type": "execute_result"
    }
   ],
   "source": [
    "data[(data['answer_correctness']<0.5) & (data['context_precision']<0.5)][['question','context_relevancy','context_precision','answer_relevancy','answer_similarity','answer_correctness']].sort_values(by='answer_correctness',ascending=True)"
   ]
  },
  {
   "cell_type": "markdown",
   "metadata": {},
   "source": [
    "22 have low answer_correctness and low context_precision. This suggests the embedding process is not ideal."
   ]
  }
 ],
 "metadata": {
  "kernelspec": {
   "display_name": "ragenv",
   "language": "python",
   "name": "python3"
  },
  "language_info": {
   "codemirror_mode": {
    "name": "ipython",
    "version": 3
   },
   "file_extension": ".py",
   "mimetype": "text/x-python",
   "name": "python",
   "nbconvert_exporter": "python",
   "pygments_lexer": "ipython3",
   "version": "3.9.7"
  }
 },
 "nbformat": 4,
 "nbformat_minor": 2
}
